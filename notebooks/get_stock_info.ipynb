{
 "cells": [
  {
   "cell_type": "markdown",
   "metadata": {},
   "source": [
    "# Automatically Download AU Stock List and Info"
   ]
  },
  {
   "cell_type": "markdown",
   "metadata": {},
   "source": [
    "## Import"
   ]
  },
  {
   "cell_type": "markdown",
   "metadata": {},
   "source": [
    "Libraries"
   ]
  },
  {
   "cell_type": "code",
   "execution_count": 6,
   "metadata": {},
   "outputs": [],
   "source": [
    "import requests\n",
    "import os\n",
    "import pandas as pd\n",
    "from tqdm import tqdm\n",
    "import time\n",
    "import random"
   ]
  },
  {
   "cell_type": "markdown",
   "metadata": {},
   "source": [
    "Definitions"
   ]
  },
  {
   "cell_type": "code",
   "execution_count": 2,
   "metadata": {},
   "outputs": [],
   "source": [
    "# current dir + data\n",
    "download_dir = os.path.join(os.getcwd(), '../data')"
   ]
  },
  {
   "cell_type": "markdown",
   "metadata": {},
   "source": [
    "## Get ASX List"
   ]
  },
  {
   "cell_type": "code",
   "execution_count": 3,
   "metadata": {},
   "outputs": [
    {
     "name": "stdout",
     "output_type": "stream",
     "text": [
      "File downloaded successfully!\n"
     ]
    }
   ],
   "source": [
    "# todo: does this work tmr\n",
    "# The URL you provided\n",
    "url = \"https://asx.api.markitdigital.com/asx-research/1.0/companies/directory/file?access_token=83ff96335c2d45a094gics_df02a206a39ff4\"\n",
    "\n",
    "# Download the file\n",
    "response = requests.get(url)\n",
    "\n",
    "# Save the file if the request is successful\n",
    "if response.status_code == 200:\n",
    "    with open(f\"{download_dir}/asx_companies_directory.csv\", \"wb\") as file:\n",
    "        file.write(response.content)\n",
    "    print(\"File downloaded successfully!\")\n",
    "else:\n",
    "    print(f\"Failed to download file. Status code: {response.status_code}\")"
   ]
  },
  {
   "cell_type": "markdown",
   "metadata": {},
   "source": [
    "## Get gics sector and industry"
   ]
  },
  {
   "cell_type": "code",
   "execution_count": 4,
   "metadata": {},
   "outputs": [],
   "source": [
    "asx_companies_directory = pd.read_csv(\n",
    "    f\"{download_dir}/asx_companies_directory.csv\")\n",
    "\n",
    "ASX_codes = asx_companies_directory['ASX code'].to_list()"
   ]
  },
  {
   "cell_type": "code",
   "execution_count": 7,
   "metadata": {},
   "outputs": [
    {
     "name": "stderr",
     "output_type": "stream",
     "text": [
      "100%|██████████| 1930/1930 [23:02<00:00,  1.40it/s]\n"
     ]
    },
    {
     "data": {
      "text/html": [
       "<div>\n",
       "<style scoped>\n",
       "    .dataframe tbody tr th:only-of-type {\n",
       "        vertical-align: middle;\n",
       "    }\n",
       "\n",
       "    .dataframe tbody tr th {\n",
       "        vertical-align: top;\n",
       "    }\n",
       "\n",
       "    .dataframe thead th {\n",
       "        text-align: right;\n",
       "    }\n",
       "</style>\n",
       "<table border=\"1\" class=\"dataframe\">\n",
       "  <thead>\n",
       "    <tr style=\"text-align: right;\">\n",
       "      <th></th>\n",
       "      <th>Ticker</th>\n",
       "      <th>Name</th>\n",
       "      <th>Market Cap</th>\n",
       "      <th>Sector</th>\n",
       "      <th>Industry</th>\n",
       "    </tr>\n",
       "  </thead>\n",
       "  <tbody>\n",
       "    <tr>\n",
       "      <th>0</th>\n",
       "      <td>14D.AX</td>\n",
       "      <td>1414DEGREE FPO [14D]</td>\n",
       "      <td>6497523</td>\n",
       "      <td>Utilities</td>\n",
       "      <td>Utilities - Independent Power Producers</td>\n",
       "    </tr>\n",
       "    <tr>\n",
       "      <th>1</th>\n",
       "      <td>1AD.AX</td>\n",
       "      <td>ADALTA FPO [1AD]</td>\n",
       "      <td>9471870</td>\n",
       "      <td>Healthcare</td>\n",
       "      <td>Biotechnology</td>\n",
       "    </tr>\n",
       "    <tr>\n",
       "      <th>2</th>\n",
       "      <td>1AE.AX</td>\n",
       "      <td>AURORAENER FPO [1AE]</td>\n",
       "      <td>12713544</td>\n",
       "      <td>Energy</td>\n",
       "      <td>Uranium</td>\n",
       "    </tr>\n",
       "    <tr>\n",
       "      <th>3</th>\n",
       "      <td>1AI.AX</td>\n",
       "      <td>ALGORAE FPO [1AI]</td>\n",
       "      <td>11811730</td>\n",
       "      <td>Healthcare</td>\n",
       "      <td>Biotechnology</td>\n",
       "    </tr>\n",
       "    <tr>\n",
       "      <th>4</th>\n",
       "      <td>1CG.AX</td>\n",
       "      <td>1CLICKLIFE FPO [1CG]</td>\n",
       "      <td>11778800</td>\n",
       "      <td>Technology</td>\n",
       "      <td>Software - Application</td>\n",
       "    </tr>\n",
       "    <tr>\n",
       "      <th>...</th>\n",
       "      <td>...</td>\n",
       "      <td>...</td>\n",
       "      <td>...</td>\n",
       "      <td>...</td>\n",
       "      <td>...</td>\n",
       "    </tr>\n",
       "    <tr>\n",
       "      <th>1925</th>\n",
       "      <td>ZLD.AX</td>\n",
       "      <td>ZELIRATHER FPO [ZLD]</td>\n",
       "      <td>7148736</td>\n",
       "      <td>Healthcare</td>\n",
       "      <td>Biotechnology</td>\n",
       "    </tr>\n",
       "    <tr>\n",
       "      <th>1926</th>\n",
       "      <td>ZMI.AX</td>\n",
       "      <td>ZINCOFIRE FPO [ZMI]</td>\n",
       "      <td>6237121</td>\n",
       "      <td>Basic Materials</td>\n",
       "      <td>Other Industrial Metals &amp; Mining</td>\n",
       "    </tr>\n",
       "    <tr>\n",
       "      <th>1927</th>\n",
       "      <td>ZMM.AX</td>\n",
       "      <td>ZIMILMITED FPO [ZMM]</td>\n",
       "      <td>5417216</td>\n",
       "      <td>Industrials</td>\n",
       "      <td>Electrical Equipment &amp; Parts</td>\n",
       "    </tr>\n",
       "    <tr>\n",
       "      <th>1928</th>\n",
       "      <td>ZNC.AX</td>\n",
       "      <td>ZENITH MIN FPO [ZNC]</td>\n",
       "      <td>14667875</td>\n",
       "      <td>Basic Materials</td>\n",
       "      <td>Other Industrial Metals &amp; Mining</td>\n",
       "    </tr>\n",
       "    <tr>\n",
       "      <th>1929</th>\n",
       "      <td>ZNO.AX</td>\n",
       "      <td>ZOONOGROUP FPO [ZNO]</td>\n",
       "      <td>9596718</td>\n",
       "      <td>Consumer Defensive</td>\n",
       "      <td>Household &amp; Personal Products</td>\n",
       "    </tr>\n",
       "  </tbody>\n",
       "</table>\n",
       "<p>1930 rows × 5 columns</p>\n",
       "</div>"
      ],
      "text/plain": [
       "      Ticker                  Name Market Cap              Sector  \\\n",
       "0     14D.AX  1414DEGREE FPO [14D]    6497523           Utilities   \n",
       "1     1AD.AX      ADALTA FPO [1AD]    9471870          Healthcare   \n",
       "2     1AE.AX  AURORAENER FPO [1AE]   12713544              Energy   \n",
       "3     1AI.AX     ALGORAE FPO [1AI]   11811730          Healthcare   \n",
       "4     1CG.AX  1CLICKLIFE FPO [1CG]   11778800          Technology   \n",
       "...      ...                   ...        ...                 ...   \n",
       "1925  ZLD.AX  ZELIRATHER FPO [ZLD]    7148736          Healthcare   \n",
       "1926  ZMI.AX   ZINCOFIRE FPO [ZMI]    6237121     Basic Materials   \n",
       "1927  ZMM.AX  ZIMILMITED FPO [ZMM]    5417216         Industrials   \n",
       "1928  ZNC.AX  ZENITH MIN FPO [ZNC]   14667875     Basic Materials   \n",
       "1929  ZNO.AX  ZOONOGROUP FPO [ZNO]    9596718  Consumer Defensive   \n",
       "\n",
       "                                     Industry  \n",
       "0     Utilities - Independent Power Producers  \n",
       "1                               Biotechnology  \n",
       "2                                     Uranium  \n",
       "3                               Biotechnology  \n",
       "4                      Software - Application  \n",
       "...                                       ...  \n",
       "1925                            Biotechnology  \n",
       "1926         Other Industrial Metals & Mining  \n",
       "1927             Electrical Equipment & Parts  \n",
       "1928         Other Industrial Metals & Mining  \n",
       "1929            Household & Personal Products  \n",
       "\n",
       "[1930 rows x 5 columns]"
      ]
     },
     "metadata": {},
     "output_type": "display_data"
    }
   ],
   "source": [
    "import yfinance as yf\n",
    "\n",
    "# Create a dataframe to store stock information\n",
    "stock_data = []\n",
    "\n",
    "for ticker in tqdm(ASX_codes):\n",
    "    ticker += \".AX\"\n",
    "    stock = yf.Ticker(ticker)\n",
    "    info = stock.info\n",
    "    stock_data.append({\n",
    "        'Ticker': ticker,\n",
    "        'Name': info.get('shortName', 'N/A'),\n",
    "        'Market Cap': info.get('marketCap', 'N/A'),\n",
    "        'Sector': info.get('sector', 'N/A'),\n",
    "        'Industry': info.get('industry', 'N/A'),\n",
    "    })\n",
    "    time.sleep(random.uniform(0.05, 0.1))\n",
    "\n",
    "# Convert the data into a DataFrame\n",
    "gics_df = pd.DataFrame(stock_data)\n",
    "\n",
    "# Display the DataFrame\n",
    "display(gics_df)"
   ]
  },
  {
   "cell_type": "code",
   "execution_count": 8,
   "metadata": {},
   "outputs": [],
   "source": [
    "gics_df.to_csv('../data/asx_gics.csv', index=False)"
   ]
  },
  {
   "cell_type": "code",
   "execution_count": null,
   "metadata": {},
   "outputs": [],
   "source": []
  }
 ],
 "metadata": {
  "kernelspec": {
   "display_name": "base",
   "language": "python",
   "name": "python3"
  },
  "language_info": {
   "codemirror_mode": {
    "name": "ipython",
    "version": 3
   },
   "file_extension": ".py",
   "mimetype": "text/x-python",
   "name": "python",
   "nbconvert_exporter": "python",
   "pygments_lexer": "ipython3",
   "version": "3.9.7"
  }
 },
 "nbformat": 4,
 "nbformat_minor": 2
}
