{
 "cells": [
  {
   "cell_type": "code",
   "execution_count": 2,
   "metadata": {},
   "outputs": [],
   "source": [
    "import yfinance as yf"
   ]
  },
  {
   "cell_type": "code",
   "execution_count": 12,
   "metadata": {},
   "outputs": [],
   "source": [
    "obj = yf.Ticker('ANZ.AX')"
   ]
  },
  {
   "cell_type": "code",
   "execution_count": 13,
   "metadata": {},
   "outputs": [
    {
     "data": {
      "text/plain": [
       "Index(['Tax Effect Of Unusual Items', 'Tax Rate For Calcs',\n",
       "       'Total Unusual Items', 'Total Unusual Items Excluding Goodwill',\n",
       "       'Net Income From Continuing Operation Net Minority Interest',\n",
       "       'Reconciled Depreciation', 'Net Interest Income', 'Interest Expense',\n",
       "       'Interest Income', 'Normalized Income',\n",
       "       'Net Income From Continuing And Discontinued Operation',\n",
       "       'Diluted Average Shares', 'Basic Average Shares', 'Diluted EPS',\n",
       "       'Basic EPS', 'Diluted NI Availto Com Stockholders',\n",
       "       'Average Dilution Earnings', 'Net Income Common Stockholders',\n",
       "       'Net Income', 'Minority Interests',\n",
       "       'Net Income Including Noncontrolling Interests',\n",
       "       'Net Income Discontinuous Operations',\n",
       "       'Net Income Continuous Operations', 'Tax Provision', 'Pretax Income',\n",
       "       'Other Non Operating Income Expenses', 'Special Income Charges',\n",
       "       'Other Special Charges', 'Write Off', 'Impairment Of Capital Assets',\n",
       "       'Restructuring And Mergern Acquisition', 'Gain On Sale Of Security',\n",
       "       'Operating Expense', 'Other Operating Expenses',\n",
       "       'Depreciation Amortization Depletion Income Statement',\n",
       "       'Depreciation And Amortization In Income Statement', 'Amortization',\n",
       "       'Amortization Of Intangibles Income Statement',\n",
       "       'Depreciation Income Statement', 'Selling General And Administration',\n",
       "       'Selling And Marketing Expense', 'General And Administrative Expense',\n",
       "       'Rent And Landing Fees', 'Salaries And Wages', 'Total Revenue',\n",
       "       'Operating Revenue', 'Occupancy And Equipment',\n",
       "       'Other Non Interest Expense'],\n",
       "      dtype='object')"
      ]
     },
     "execution_count": 13,
     "metadata": {},
     "output_type": "execute_result"
    }
   ],
   "source": [
    "obj.financials.index"
   ]
  },
  {
   "cell_type": "code",
   "execution_count": null,
   "metadata": {},
   "outputs": [],
   "source": []
  }
 ],
 "metadata": {
  "kernelspec": {
   "display_name": "base",
   "language": "python",
   "name": "python3"
  },
  "language_info": {
   "codemirror_mode": {
    "name": "ipython",
    "version": 3
   },
   "file_extension": ".py",
   "mimetype": "text/x-python",
   "name": "python",
   "nbconvert_exporter": "python",
   "pygments_lexer": "ipython3",
   "version": "3.9.7"
  }
 },
 "nbformat": 4,
 "nbformat_minor": 2
}
