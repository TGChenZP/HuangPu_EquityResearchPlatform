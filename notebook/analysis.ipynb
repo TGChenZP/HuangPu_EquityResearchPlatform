{
 "cells": [
  {
   "cell_type": "markdown",
   "metadata": {},
   "source": [
    "# Stock analysis"
   ]
  },
  {
   "cell_type": "markdown",
   "metadata": {},
   "source": [
    "## Import"
   ]
  },
  {
   "cell_type": "markdown",
   "metadata": {},
   "source": [
    "Libraries"
   ]
  },
  {
   "cell_type": "code",
   "execution_count": 1,
   "metadata": {},
   "outputs": [],
   "source": [
    "import pandas as pd\n",
    "import numpy as np\n",
    "import statsmodels.api as sm\n",
    "import matplotlib.pyplot as plt\n",
    "from collections import defaultdict as dd\n",
    "\n",
    "import yfinance as yf"
   ]
  },
  {
   "cell_type": "markdown",
   "metadata": {},
   "source": [
    "Definitions"
   ]
  },
  {
   "cell_type": "code",
   "execution_count": 2,
   "metadata": {},
   "outputs": [],
   "source": [
    "import warnings\n",
    "warnings.filterwarnings(\"ignore\")"
   ]
  },
  {
   "cell_type": "code",
   "execution_count": 3,
   "metadata": {},
   "outputs": [],
   "source": [
    "index_tickers = ['^AXJO', '^AXKO', '^AXSO', '^AORD']\n",
    "# Proxy for 200, 300, small ord, all ords"
   ]
  },
  {
   "cell_type": "markdown",
   "metadata": {},
   "source": [
    "## Get data"
   ]
  },
  {
   "cell_type": "markdown",
   "metadata": {},
   "source": [
    "Define Functions"
   ]
  },
  {
   "cell_type": "code",
   "execution_count": 4,
   "metadata": {},
   "outputs": [],
   "source": [
    "def get_prices(ticker: str, start_date: str, end_date: str = None, interval: str = '1d') -> pd.DataFrame:\n",
    "    \"\"\" \n",
    "    Get historical prices for a given ticker.\n",
    "\n",
    "    Parameters:\n",
    "        - ticker (str): The ticker symbol of the stock.\n",
    "        - start (str): The start date of the historical prices.\n",
    "        - end_str (str): (default=None) The end date of the historical prices.\n",
    "        - interval (str): (default='1d') The interval of the historical prices.\n",
    "    \"\"\"\n",
    "\n",
    "    price_df_list = []\n",
    "\n",
    "    if end_date is None:\n",
    "        end_date = pd.Timestamp.now().strftime('%Y-%m-%d')\n",
    "\n",
    "    start_year = int(start_date.split('-')[0])\n",
    "    end_year = int(end_date.split('-')[0])\n",
    "\n",
    "    # get prices for each year and concat to get the full price_df\n",
    "    for year in range(start_year, end_year + 1):\n",
    "        if year == start_year:\n",
    "            price_df = yf.Ticker(ticker).history(\n",
    "                interval=interval, start=start_date, end=f'{year}-12-31')\n",
    "        elif year == end_year:\n",
    "            price_df = yf.Ticker(ticker).history(\n",
    "                interval=interval, start=f'{year}-01-01', end=end_date)\n",
    "        else:\n",
    "            price_df = yf.Ticker(ticker).history(\n",
    "                interval=interval, start=f'{year}-01-01', end=f'{year}-12-31')\n",
    "\n",
    "        price_df_list.append(price_df)\n",
    "\n",
    "    price_df = pd.concat(price_df_list)\n",
    "\n",
    "    try:\n",
    "        price_df['Dividends'] = price_df['Dividends'].astype(float)\n",
    "    except:\n",
    "        pass\n",
    "\n",
    "    return price_df"
   ]
  },
  {
   "cell_type": "code",
   "execution_count": 5,
   "metadata": {},
   "outputs": [],
   "source": [
    "def get_return(price_df: pd.DataFrame, interval: str = 'M') -> pd.DataFrame:\n",
    "    \"\"\" \n",
    "    Get return of stock on a monthly basis (last close price/last close price previous period - 1)\n",
    "\n",
    "        - pride_df: pd.DataFrame\n",
    "        - interval: str (default='M')\n",
    "    \"\"\"\n",
    "    assert interval in ['M', 'Q', 'Y'], 'interval must be M, Q or Y'\n",
    "\n",
    "    # find the last close price of each period\n",
    "    last_close_price = price_df.resample(interval).last()\n",
    "\n",
    "    # calculate the return\n",
    "    return_series = last_close_price['Close'].pct_change()*100\n",
    "\n",
    "    # turn into a dataframe\n",
    "    return_series = return_series.to_frame()\n",
    "\n",
    "    return_series.columns = [f'{interval}_Return (%)']\n",
    "    # set index to month\n",
    "    return_series.index = return_series.index.strftime('%Y-%m')\n",
    "\n",
    "    return return_series"
   ]
  },
  {
   "cell_type": "code",
   "execution_count": 6,
   "metadata": {},
   "outputs": [],
   "source": [
    "def get_stats(monthly_returns_df_dict: str, ticker: str, start_period: str, end_year: str):\n",
    "\n",
    "    period_of_interest_return_df = monthly_returns_df_dict[ticker].loc[start_period:end_year]\n",
    "\n",
    "    stats_dict = {}\n",
    "\n",
    "    # mean, std, n\n",
    "    stats_dict['mean (%)'] = np.round(\n",
    "        period_of_interest_return_df.mean().values[0], 2)\n",
    "    stats_dict['std (%)'] = np.round(\n",
    "        period_of_interest_return_df.std().values[0], 2)\n",
    "    stats_dict['n'] = period_of_interest_return_df.shape[0]\n",
    "\n",
    "    # sharpe\n",
    "    mode = monthly_returns_df_dict[ticker].columns[0].split('_')[0]\n",
    "    sharpe_multiplier = 4 if mode == 'Q' else 12 if mode == 'M' else 1\n",
    "    stats_dict['sharpe'] = np.round(np.sqrt(\n",
    "        sharpe_multiplier) * stats_dict['mean (%)'] / stats_dict['std (%)'], 2)\n",
    "\n",
    "    # earliest and latest date for ticker\n",
    "    regression_start_period = monthly_returns_df_dict[ticker].index[1]\n",
    "    regression_end_period = monthly_returns_df_dict[ticker].index[-1]\n",
    "\n",
    "    # beta over this period\n",
    "    X = monthly_returns_df_dict['^AORD'].loc[regression_start_period:\n",
    "                                             regression_end_period][f'{mode}_Return (%)']\n",
    "    X = sm.add_constant(X)\n",
    "    y = monthly_returns_df_dict[ticker].loc[regression_start_period:\n",
    "                                            regression_end_period][f'{mode}_Return (%)']\n",
    "\n",
    "    linreg = sm.OLS(y, X).fit()\n",
    "    stats_dict['CAPM beta'] = np.round(linreg.params[f'{mode}_Return (%)'], 2)\n",
    "    stats_dict['CAPM alpha'] = np.round(linreg.params['const'], 2)\n",
    "\n",
    "    return stats_dict"
   ]
  },
  {
   "cell_type": "code",
   "execution_count": 7,
   "metadata": {},
   "outputs": [],
   "source": [
    "def historical_corr(monthly_returns_df_dict: dict, start_period: str, end_year: str):\n",
    "    \"\"\"\n",
    "    Get the historical correlation between two stocks.\n",
    "\n",
    "    Parameters:\n",
    "        - historical_returns: dict\n",
    "        - start_period: str\n",
    "        - end_year: str\n",
    "    \"\"\"\n",
    "\n",
    "    period_of_interest_return_df = pd.DataFrame()\n",
    "\n",
    "    for ticker, returns_df in monthly_returns_df_dict.items():\n",
    "        returns_df = returns_df.loc[start_period:end_year]\n",
    "        returns_df.rename(\n",
    "            columns={returns_df.columns[0]: ticker}, inplace=True)\n",
    "\n",
    "        period_of_interest_return_df = pd.merge(\n",
    "            period_of_interest_return_df, returns_df, left_index=True, right_index=True, how='outer')\n",
    "\n",
    "    # calculate correlation: corr() function from pandas\n",
    "    correlation_df = period_of_interest_return_df.corr()  # TODO\n",
    "\n",
    "    return correlation_df, period_of_interest_return_df"
   ]
  },
  {
   "cell_type": "code",
   "execution_count": 8,
   "metadata": {},
   "outputs": [],
   "source": [
    "def plot_returns(monthly_returns_df_dict: dict, quarterly_returns_df_dict: dict, yearly_returns_df_dict: dict, TICKER: str, first_end_of_quarter: str, last_end_of_quarter: str, **kwargs):\n",
    "\n",
    "    # Create a figure and 3 subplots\n",
    "    fig, axs = plt.subplots(3, 1, figsize=(8, 8))\n",
    "\n",
    "    interested_monthly_returns_df = monthly_returns_df_dict[TICKER][\n",
    "        monthly_returns_df_dict[TICKER].index > first_end_of_quarter]\n",
    "    interested_quarterly_returns_df = quarterly_returns_df_dict[TICKER][\n",
    "        quarterly_returns_df_dict[TICKER].index > first_end_of_quarter]\n",
    "    interested_yearly_returns_df = yearly_returns_df_dict[TICKER][\n",
    "        yearly_returns_df_dict[TICKER].index > first_end_of_quarter]\n",
    "\n",
    "    # Plot monthly returns as a bar chart\n",
    "    axs[0].bar(interested_monthly_returns_df.index, interested_monthly_returns_df.values.flatten(\n",
    "    ), label='Monthly Returns (%)', color='red')\n",
    "    axs[0].axhline(y=0, color='gray', lw=1, linestyle=':', linewidth=0.5)\n",
    "    axs[0].set_title('Monthly Returns (%)')\n",
    "    axs[0].set_ylabel('Returns (%)')\n",
    "    axs[0].set_xticks(np.arange(0, len(interested_monthly_returns_df), 3))\n",
    "    axs[0].tick_params(axis='x', rotation=90)\n",
    "\n",
    "    # Plot quarterly returns as a bar chart\n",
    "    axs[1].bar(interested_quarterly_returns_df.index, interested_quarterly_returns_df.values.flatten(\n",
    "    ), label='Quarterly Returns (%)', color='orange')\n",
    "    axs[1].axhline(y=0, color='gray', lw=1, linestyle=':', linewidth=0.5)\n",
    "    axs[1].set_title('Quarterly Returns (%)')\n",
    "    axs[1].set_ylabel('Returns (%)')\n",
    "    axs[1].tick_params(axis='x', rotation=90)  # Rotate x-axis tick labels\n",
    "\n",
    "    # Add text above the bars for quarterly returns\n",
    "    for i, value in enumerate(interested_quarterly_returns_df.values.flatten()):\n",
    "        axs[1].text(i, value, f'{value:.1f}%', ha='center',\n",
    "                    va='bottom', fontsize=8, rotation=45)\n",
    "\n",
    "    # Plot yearly returns as a bar chart\n",
    "    axs[2].bar(interested_yearly_returns_df.index, interested_yearly_returns_df.values.flatten(\n",
    "    ), label='Yearly Returns (%)', color='yellow')\n",
    "    axs[2].axhline(y=0, color='gray', lw=1, linestyle=':', linewidth=0.5)\n",
    "    axs[2].set_title('Yearly Returns (%)')\n",
    "    axs[2].set_ylabel('Returns (%)')\n",
    "    axs[2].tick_params(axis='x', rotation=90)  # Rotate x-axis tick labels\n",
    "\n",
    "    # Add text above the bars for quarterly returns\n",
    "    for i, value in enumerate(interested_yearly_returns_df.values.flatten()):\n",
    "        axs[2].text(i, value, f'{value:.1f}%', ha='center',\n",
    "                    va='bottom', fontsize=8, rotation=45)\n",
    "\n",
    "    # Set x-label only on the last subplot\n",
    "    axs[2].set_xlabel('Date')\n",
    "\n",
    "    fig.suptitle(\n",
    "        f'{TICKER} Returns from {first_end_of_quarter} to {last_end_of_quarter}', fontsize=16)\n",
    "\n",
    "    # Rotate x-axis labels 90 degrees on the last subplot\n",
    "    plt.setp(axs[2].xaxis.get_majorticklabels(), rotation=90)\n",
    "\n",
    "    # Tight layout for better spacing between plots\n",
    "    plt.tight_layout()\n",
    "\n",
    "    # Show the plot\n",
    "    plt.show()"
   ]
  },
  {
   "cell_type": "code",
   "execution_count": 42,
   "metadata": {},
   "outputs": [],
   "source": [
    "def plot_correlation(correlation_df: pd.DataFrame):\n",
    "    \"\"\"\n",
    "    Plot the correlation matrix.\n",
    "\n",
    "    Parameters:\n",
    "        - correlation_df: pd.DataFrame\n",
    "    \"\"\"\n",
    "    plt.figure(figsize=(10, 8))\n",
    "    # Set vmin and vmax to -1 and 1, respectively, and use the custom colormap\n",
    "    plt.matshow(correlation_df, fignum=1, vmin=-1, vmax=1, cmap=\"RdBu\")\n",
    "    plt.xticks(range(len(correlation_df.columns)),\n",
    "               correlation_df.columns, rotation=75)\n",
    "    plt.yticks(range(len(correlation_df.columns)), correlation_df.columns)\n",
    "    # Colour bar with the custom colormap\n",
    "    plt.colorbar()\n",
    "    plt.title(f'{TICKER} Monthly Return Correlation Matrix')\n",
    "    plt.show()"
   ]
  },
  {
   "cell_type": "markdown",
   "metadata": {},
   "source": [
    "Run data"
   ]
  },
  {
   "cell_type": "code",
   "execution_count": 163,
   "metadata": {},
   "outputs": [],
   "source": [
    "TICKER = 'TWE'\n",
    "first_end_of_quarter = '2020-06'\n",
    "last_end_of_quarter = '2024-06'"
   ]
  },
  {
   "cell_type": "code",
   "execution_count": 164,
   "metadata": {},
   "outputs": [],
   "source": [
    "asx_companies_directory = pd.read_csv('../data/asx_companies_directory.csv')\n",
    "gics = pd.read_csv('../data/asx_gics.csv')\n",
    "\n",
    "gics['Industry'] = gics['Industry'].apply(lambda x: ''.join(\n",
    "    str(x).split('-')).replace(' ', '').replace('—', ''))\n",
    "\n",
    "asx_companies_directory['Market Cap'] = asx_companies_directory['Market Cap'].apply(\n",
    "    lambda x: float(x) if x.isnumeric() else float(x.lower()) if 'E+' in x else np.nan)"
   ]
  },
  {
   "cell_type": "code",
   "execution_count": 165,
   "metadata": {},
   "outputs": [],
   "source": [
    "top_500 = asx_companies_directory.sort_values(\n",
    "    'Market Cap', ascending=False).head(500)['ASX code'].values + '.AX'"
   ]
  },
  {
   "cell_type": "code",
   "execution_count": 166,
   "metadata": {},
   "outputs": [],
   "source": [
    "above_1b = asx_companies_directory[asx_companies_directory['Market Cap']\n",
    "                                   >= 1000000000]['ASX code'].values + '.AX'"
   ]
  },
  {
   "cell_type": "code",
   "execution_count": 167,
   "metadata": {},
   "outputs": [],
   "source": [
    "# find same industry stocks\n",
    "ticker_gics_sector = gics[gics['Ticker'] == f'{TICKER}.AX']['Sector'].values[0]\n",
    "ticker_gics_industry = gics[gics['Ticker']\n",
    "                            == f'{TICKER}.AX']['Industry'].values[0]\n",
    "\n",
    "same_sector_tickers = gics[(gics['Sector'] == ticker_gics_sector) & (\n",
    "    gics['Ticker'].isin(top_500))]['Ticker'].values\n",
    "same_industry_tickers = gics[(gics['Industry'] == ticker_gics_industry) & (\n",
    "    gics['Ticker'].isin(top_500))]['Ticker'].values"
   ]
  },
  {
   "cell_type": "code",
   "execution_count": 168,
   "metadata": {},
   "outputs": [
    {
     "data": {
      "text/plain": [
       "'Consumer Defensive'"
      ]
     },
     "execution_count": 168,
     "metadata": {},
     "output_type": "execute_result"
    }
   ],
   "source": [
    "ticker_gics_sector"
   ]
  },
  {
   "cell_type": "code",
   "execution_count": 170,
   "metadata": {},
   "outputs": [
    {
     "data": {
      "text/plain": [
       "'BeveragesWineries&Distilleries'"
      ]
     },
     "execution_count": 170,
     "metadata": {},
     "output_type": "execute_result"
    }
   ],
   "source": [
    "ticker_gics_industry"
   ]
  },
  {
   "cell_type": "code",
   "execution_count": 171,
   "metadata": {},
   "outputs": [],
   "source": [
    "# get market caps and weight\n",
    "same_industry_tickers_mcap = asx_companies_directory[((asx_companies_directory['ASX code']+'.AX').isin(\n",
    "    same_industry_tickers)) & (asx_companies_directory['ASX code'] != TICKER)][['ASX code', 'Market Cap']]\n",
    "# check for is integer\n",
    "marketsame_industry_tickers_mcap_cap = same_industry_tickers_mcap[same_industry_tickers_mcap['Market Cap'].apply(\n",
    "    lambda x: isinstance(x, float))]"
   ]
  },
  {
   "cell_type": "code",
   "execution_count": 172,
   "metadata": {},
   "outputs": [],
   "source": [
    "same_industry_tickers_mcap['weight'] = same_industry_tickers_mcap['Market Cap'] / \\\n",
    "    same_industry_tickers_mcap['Market Cap'].sum()"
   ]
  },
  {
   "cell_type": "code",
   "execution_count": 173,
   "metadata": {},
   "outputs": [
    {
     "data": {
      "text/html": [
       "<div>\n",
       "<style scoped>\n",
       "    .dataframe tbody tr th:only-of-type {\n",
       "        vertical-align: middle;\n",
       "    }\n",
       "\n",
       "    .dataframe tbody tr th {\n",
       "        vertical-align: top;\n",
       "    }\n",
       "\n",
       "    .dataframe thead th {\n",
       "        text-align: right;\n",
       "    }\n",
       "</style>\n",
       "<table border=\"1\" class=\"dataframe\">\n",
       "  <thead>\n",
       "    <tr style=\"text-align: right;\">\n",
       "      <th></th>\n",
       "      <th>ASX code</th>\n",
       "      <th>Market Cap</th>\n",
       "      <th>weight</th>\n",
       "    </tr>\n",
       "  </thead>\n",
       "  <tbody>\n",
       "    <tr>\n",
       "      <th>606</th>\n",
       "      <td>EDV</td>\n",
       "      <td>8.847441e+09</td>\n",
       "      <td>1.0</td>\n",
       "    </tr>\n",
       "  </tbody>\n",
       "</table>\n",
       "</div>"
      ],
      "text/plain": [
       "    ASX code    Market Cap  weight\n",
       "606      EDV  8.847441e+09     1.0"
      ]
     },
     "metadata": {},
     "output_type": "display_data"
    },
    {
     "data": {
      "text/html": [
       "<div>\n",
       "<style scoped>\n",
       "    .dataframe tbody tr th:only-of-type {\n",
       "        vertical-align: middle;\n",
       "    }\n",
       "\n",
       "    .dataframe tbody tr th {\n",
       "        vertical-align: top;\n",
       "    }\n",
       "\n",
       "    .dataframe thead th {\n",
       "        text-align: right;\n",
       "    }\n",
       "</style>\n",
       "<table border=\"1\" class=\"dataframe\">\n",
       "  <thead>\n",
       "    <tr style=\"text-align: right;\">\n",
       "      <th></th>\n",
       "      <th>ASX code</th>\n",
       "      <th>Market Cap</th>\n",
       "    </tr>\n",
       "  </thead>\n",
       "  <tbody>\n",
       "    <tr>\n",
       "      <th>1796</th>\n",
       "      <td>TWE</td>\n",
       "      <td>9.777689e+09</td>\n",
       "    </tr>\n",
       "  </tbody>\n",
       "</table>\n",
       "</div>"
      ],
      "text/plain": [
       "     ASX code    Market Cap\n",
       "1796      TWE  9.777689e+09"
      ]
     },
     "metadata": {},
     "output_type": "display_data"
    },
    {
     "name": "stdout",
     "output_type": "stream",
     "text": [
      "1.1051430970988516\n"
     ]
    }
   ],
   "source": [
    "same_industry_tickers_mcap = same_industry_tickers_mcap.sort_values(\n",
    "    by='Market Cap', ascending=False)\n",
    "display(same_industry_tickers_mcap)\n",
    "\n",
    "ticker_mv = asx_companies_directory[asx_companies_directory['ASX code'] == TICKER][[\n",
    "    'ASX code', 'Market Cap']]\n",
    "display(ticker_mv)\n",
    "\n",
    "ticker_proportion_of_market = ticker_mv['Market Cap'].values[0] / \\\n",
    "    same_industry_tickers_mcap['Market Cap'].sum()\n",
    "print(ticker_proportion_of_market)"
   ]
  },
  {
   "cell_type": "code",
   "execution_count": 174,
   "metadata": {},
   "outputs": [],
   "source": [
    "same_gics_industry_weight_dict = same_industry_tickers_mcap.set_index('ASX code')[\n",
    "    'weight'].to_dict()"
   ]
  },
  {
   "cell_type": "code",
   "execution_count": 175,
   "metadata": {},
   "outputs": [
    {
     "name": "stdout",
     "output_type": "stream",
     "text": [
      "TWE\n",
      "EDV\n"
     ]
    },
    {
     "name": "stderr",
     "output_type": "stream",
     "text": [
      "$EDV.AX: possibly delisted; no price data found  (1d 2019-06-01 -> 2019-12-31) (Yahoo error = \"Data doesn't exist for startDate = 1559311200, endDate = 1577710800\")\n",
      "$EDV.AX: possibly delisted; no price data found  (1d 2020-01-01 -> 2020-12-31) (Yahoo error = \"Data doesn't exist for startDate = 1577797200, endDate = 1609333200\")\n"
     ]
    },
    {
     "name": "stdout",
     "output_type": "stream",
     "text": [
      "^AXJO\n",
      "^AXKO\n",
      "^AXSO\n",
      "^AORD\n"
     ]
    }
   ],
   "source": [
    "my_portfolio_tickers = [TICKER]\n",
    "my_portfolio_tickers.extend([ticker.split(\n",
    "    '.')[0] for ticker in same_industry_tickers if ticker.split('.')[0] != TICKER])\n",
    "\n",
    "\n",
    "my_portfolio_tickers.extend(index_tickers)\n",
    "\n",
    "historical_prices = {}\n",
    "\n",
    "for ticker in my_portfolio_tickers:\n",
    "    print(ticker)\n",
    "    historical_prices[ticker] = get_prices(\n",
    "        f'{ticker}.AX' if ticker not in index_tickers else ticker, '2019-06-01')"
   ]
  },
  {
   "cell_type": "code",
   "execution_count": 176,
   "metadata": {},
   "outputs": [],
   "source": [
    "monthly_returns_df_dict = {}\n",
    "for ticker, price_df in historical_prices.items():\n",
    "    monthly_returns_df_dict[ticker] = get_return(price_df, 'M')\n",
    "\n",
    "quarterly_returns_df_dict = {}\n",
    "for ticker, price_df in historical_prices.items():\n",
    "    quarterly_returns_df_dict[ticker] = get_return(price_df, 'Q')\n",
    "\n",
    "yearly_returns_df_dict = {}\n",
    "for ticker, price_df in historical_prices.items():\n",
    "    yearly_returns_df_dict[ticker] = get_return(price_df, 'Y')"
   ]
  },
  {
   "cell_type": "code",
   "execution_count": 177,
   "metadata": {},
   "outputs": [],
   "source": [
    "def get_gics_industry_weighted_mean(return_df_dict: dict, TICKER: str, my_portfolio_tickers: list, same_gics_industry_weight_dict: dict, index_tickers: list, mode: str, **kwargs) -> pd.DataFrame:\n",
    "\n",
    "    GICS_Industry_Weighted_Mean = dd(float)\n",
    "\n",
    "    # Iterate through each ticker in the portfolio\n",
    "    for ticker in my_portfolio_tickers:\n",
    "        # Skip the index tickers and the main TICKER\n",
    "        if ticker not in index_tickers + [TICKER]:\n",
    "            # Iterate through the dates of the return data for the ticker\n",
    "            for date in return_df_dict[ticker].index:\n",
    "                # Check if the return value is not NaN\n",
    "\n",
    "                if not pd.isna(return_df_dict[ticker].loc[date].values[0]):\n",
    "                    # Sum the weighted returns for the GICS industry by date\n",
    "                    GICS_Industry_Weighted_Mean[date] += same_gics_industry_weight_dict[ticker] * \\\n",
    "                        return_df_dict[ticker].loc[date].values[0]\n",
    "\n",
    "    # Create a DataFrame to store the results\n",
    "    weighted_mean_df = pd.DataFrame.from_dict(\n",
    "        GICS_Industry_Weighted_Mean, orient='index', columns=[f'{mode}_Return (%)'])\n",
    "    return_df_dict['GICS Industry Weighted Mean'] = weighted_mean_df\n",
    "\n",
    "    return return_df_dict"
   ]
  },
  {
   "cell_type": "code",
   "execution_count": 178,
   "metadata": {},
   "outputs": [],
   "source": [
    "monthly_returns_df_dict = get_gics_industry_weighted_mean(\n",
    "    monthly_returns_df_dict, TICKER, my_portfolio_tickers, same_gics_industry_weight_dict, index_tickers, 'M')\n",
    "quarterly_returns_df_dict = get_gics_industry_weighted_mean(\n",
    "    quarterly_returns_df_dict, TICKER, my_portfolio_tickers, same_gics_industry_weight_dict, index_tickers, 'Q')\n",
    "yearly_returns_df_dict = get_gics_industry_weighted_mean(\n",
    "    yearly_returns_df_dict, TICKER, my_portfolio_tickers, same_gics_industry_weight_dict, index_tickers, 'Y')"
   ]
  },
  {
   "cell_type": "code",
   "execution_count": 179,
   "metadata": {},
   "outputs": [
    {
     "data": {
      "text/html": [
       "<div>\n",
       "<style scoped>\n",
       "    .dataframe tbody tr th:only-of-type {\n",
       "        vertical-align: middle;\n",
       "    }\n",
       "\n",
       "    .dataframe tbody tr th {\n",
       "        vertical-align: top;\n",
       "    }\n",
       "\n",
       "    .dataframe thead th {\n",
       "        text-align: right;\n",
       "    }\n",
       "</style>\n",
       "<table border=\"1\" class=\"dataframe\">\n",
       "  <thead>\n",
       "    <tr style=\"text-align: right;\">\n",
       "      <th></th>\n",
       "      <th>mean (%)</th>\n",
       "      <th>std (%)</th>\n",
       "      <th>n</th>\n",
       "      <th>sharpe</th>\n",
       "      <th>CAPM beta</th>\n",
       "      <th>CAPM alpha</th>\n",
       "    </tr>\n",
       "  </thead>\n",
       "  <tbody>\n",
       "    <tr>\n",
       "      <th>TWE</th>\n",
       "      <td>1.00</td>\n",
       "      <td>7.17</td>\n",
       "      <td>49.0</td>\n",
       "      <td>0.48</td>\n",
       "      <td>0.45</td>\n",
       "      <td>-0.03</td>\n",
       "    </tr>\n",
       "    <tr>\n",
       "      <th>EDV</th>\n",
       "      <td>-0.17</td>\n",
       "      <td>5.73</td>\n",
       "      <td>37.0</td>\n",
       "      <td>-0.10</td>\n",
       "      <td>0.57</td>\n",
       "      <td>-0.37</td>\n",
       "    </tr>\n",
       "    <tr>\n",
       "      <th>^AXJO</th>\n",
       "      <td>0.69</td>\n",
       "      <td>3.84</td>\n",
       "      <td>49.0</td>\n",
       "      <td>0.62</td>\n",
       "      <td>0.98</td>\n",
       "      <td>-0.03</td>\n",
       "    </tr>\n",
       "    <tr>\n",
       "      <th>^AXKO</th>\n",
       "      <td>0.68</td>\n",
       "      <td>3.87</td>\n",
       "      <td>49.0</td>\n",
       "      <td>0.61</td>\n",
       "      <td>0.98</td>\n",
       "      <td>-0.03</td>\n",
       "    </tr>\n",
       "    <tr>\n",
       "      <th>^AXSO</th>\n",
       "      <td>0.35</td>\n",
       "      <td>5.03</td>\n",
       "      <td>49.0</td>\n",
       "      <td>0.24</td>\n",
       "      <td>1.18</td>\n",
       "      <td>-0.24</td>\n",
       "    </tr>\n",
       "    <tr>\n",
       "      <th>^AORD</th>\n",
       "      <td>0.71</td>\n",
       "      <td>3.92</td>\n",
       "      <td>49.0</td>\n",
       "      <td>0.63</td>\n",
       "      <td>1.00</td>\n",
       "      <td>0.00</td>\n",
       "    </tr>\n",
       "    <tr>\n",
       "      <th>GICS Industry Weighted Mean</th>\n",
       "      <td>-0.17</td>\n",
       "      <td>5.73</td>\n",
       "      <td>36.0</td>\n",
       "      <td>-0.10</td>\n",
       "      <td>0.56</td>\n",
       "      <td>-0.50</td>\n",
       "    </tr>\n",
       "  </tbody>\n",
       "</table>\n",
       "</div>"
      ],
      "text/plain": [
       "                             mean (%)  std (%)     n  sharpe  CAPM beta  \\\n",
       "TWE                              1.00     7.17  49.0    0.48       0.45   \n",
       "EDV                             -0.17     5.73  37.0   -0.10       0.57   \n",
       "^AXJO                            0.69     3.84  49.0    0.62       0.98   \n",
       "^AXKO                            0.68     3.87  49.0    0.61       0.98   \n",
       "^AXSO                            0.35     5.03  49.0    0.24       1.18   \n",
       "^AORD                            0.71     3.92  49.0    0.63       1.00   \n",
       "GICS Industry Weighted Mean     -0.17     5.73  36.0   -0.10       0.56   \n",
       "\n",
       "                             CAPM alpha  \n",
       "TWE                               -0.03  \n",
       "EDV                               -0.37  \n",
       "^AXJO                             -0.03  \n",
       "^AXKO                             -0.03  \n",
       "^AXSO                             -0.24  \n",
       "^AORD                              0.00  \n",
       "GICS Industry Weighted Mean       -0.50  "
      ]
     },
     "execution_count": 179,
     "metadata": {},
     "output_type": "execute_result"
    }
   ],
   "source": [
    "stats_dict = {}\n",
    "\n",
    "for ticker in monthly_returns_df_dict:\n",
    "    stats_dict[ticker] = get_stats(\n",
    "        monthly_returns_df_dict, ticker, first_end_of_quarter, last_end_of_quarter)\n",
    "\n",
    "stats_df = pd.DataFrame(stats_dict).T\n",
    "stats_df"
   ]
  },
  {
   "cell_type": "code",
   "execution_count": 180,
   "metadata": {},
   "outputs": [],
   "source": [
    "# get rows where index are not index tickers or iel\n",
    "same_gics_stats_df = stats_df[~stats_df.index.isin(\n",
    "    index_tickers + [TICKER, 'Gics Industry Weighted Mean'])]"
   ]
  },
  {
   "cell_type": "code",
   "execution_count": 181,
   "metadata": {},
   "outputs": [],
   "source": [
    "same_gics_stats_df['ASX code'] = same_gics_stats_df.index\n",
    "\n",
    "same_gics_stats_df = same_gics_stats_df.merge(\n",
    "    same_industry_tickers_mcap, on='ASX code')"
   ]
  },
  {
   "cell_type": "code",
   "execution_count": 182,
   "metadata": {},
   "outputs": [
    {
     "data": {
      "text/html": [
       "<div>\n",
       "<style scoped>\n",
       "    .dataframe tbody tr th:only-of-type {\n",
       "        vertical-align: middle;\n",
       "    }\n",
       "\n",
       "    .dataframe tbody tr th {\n",
       "        vertical-align: top;\n",
       "    }\n",
       "\n",
       "    .dataframe thead th {\n",
       "        text-align: right;\n",
       "    }\n",
       "</style>\n",
       "<table border=\"1\" class=\"dataframe\">\n",
       "  <thead>\n",
       "    <tr style=\"text-align: right;\">\n",
       "      <th></th>\n",
       "      <th>mean (%)</th>\n",
       "      <th>std (%)</th>\n",
       "      <th>n</th>\n",
       "      <th>sharpe</th>\n",
       "      <th>CAPM beta</th>\n",
       "      <th>CAPM alpha</th>\n",
       "    </tr>\n",
       "  </thead>\n",
       "  <tbody>\n",
       "    <tr>\n",
       "      <th>TWE</th>\n",
       "      <td>1.00</td>\n",
       "      <td>7.17</td>\n",
       "      <td>49.0</td>\n",
       "      <td>0.48</td>\n",
       "      <td>0.45</td>\n",
       "      <td>-0.03</td>\n",
       "    </tr>\n",
       "    <tr>\n",
       "      <th>EDV</th>\n",
       "      <td>-0.17</td>\n",
       "      <td>5.73</td>\n",
       "      <td>37.0</td>\n",
       "      <td>-0.10</td>\n",
       "      <td>0.57</td>\n",
       "      <td>-0.37</td>\n",
       "    </tr>\n",
       "    <tr>\n",
       "      <th>^AXJO</th>\n",
       "      <td>0.69</td>\n",
       "      <td>3.84</td>\n",
       "      <td>49.0</td>\n",
       "      <td>0.62</td>\n",
       "      <td>0.98</td>\n",
       "      <td>-0.03</td>\n",
       "    </tr>\n",
       "    <tr>\n",
       "      <th>^AXKO</th>\n",
       "      <td>0.68</td>\n",
       "      <td>3.87</td>\n",
       "      <td>49.0</td>\n",
       "      <td>0.61</td>\n",
       "      <td>0.98</td>\n",
       "      <td>-0.03</td>\n",
       "    </tr>\n",
       "    <tr>\n",
       "      <th>^AXSO</th>\n",
       "      <td>0.35</td>\n",
       "      <td>5.03</td>\n",
       "      <td>49.0</td>\n",
       "      <td>0.24</td>\n",
       "      <td>1.18</td>\n",
       "      <td>-0.24</td>\n",
       "    </tr>\n",
       "    <tr>\n",
       "      <th>^AORD</th>\n",
       "      <td>0.71</td>\n",
       "      <td>3.92</td>\n",
       "      <td>49.0</td>\n",
       "      <td>0.63</td>\n",
       "      <td>1.00</td>\n",
       "      <td>0.00</td>\n",
       "    </tr>\n",
       "    <tr>\n",
       "      <th>GICS Industry Weighted Mean</th>\n",
       "      <td>-0.17</td>\n",
       "      <td>5.73</td>\n",
       "      <td>36.0</td>\n",
       "      <td>-0.10</td>\n",
       "      <td>0.56</td>\n",
       "      <td>-0.50</td>\n",
       "    </tr>\n",
       "    <tr>\n",
       "      <th>GICS Industry Weighted Mean (Macro)</th>\n",
       "      <td>-0.17</td>\n",
       "      <td>5.73</td>\n",
       "      <td>37.0</td>\n",
       "      <td>-0.10</td>\n",
       "      <td>0.57</td>\n",
       "      <td>-0.37</td>\n",
       "    </tr>\n",
       "  </tbody>\n",
       "</table>\n",
       "</div>"
      ],
      "text/plain": [
       "                                     mean (%)  std (%)     n  sharpe  \\\n",
       "TWE                                      1.00     7.17  49.0    0.48   \n",
       "EDV                                     -0.17     5.73  37.0   -0.10   \n",
       "^AXJO                                    0.69     3.84  49.0    0.62   \n",
       "^AXKO                                    0.68     3.87  49.0    0.61   \n",
       "^AXSO                                    0.35     5.03  49.0    0.24   \n",
       "^AORD                                    0.71     3.92  49.0    0.63   \n",
       "GICS Industry Weighted Mean             -0.17     5.73  36.0   -0.10   \n",
       "GICS Industry Weighted Mean (Macro)     -0.17     5.73  37.0   -0.10   \n",
       "\n",
       "                                     CAPM beta  CAPM alpha  \n",
       "TWE                                       0.45       -0.03  \n",
       "EDV                                       0.57       -0.37  \n",
       "^AXJO                                     0.98       -0.03  \n",
       "^AXKO                                     0.98       -0.03  \n",
       "^AXSO                                     1.18       -0.24  \n",
       "^AORD                                     1.00        0.00  \n",
       "GICS Industry Weighted Mean               0.56       -0.50  \n",
       "GICS Industry Weighted Mean (Macro)       0.57       -0.37  "
      ]
     },
     "execution_count": 182,
     "metadata": {},
     "output_type": "execute_result"
    }
   ],
   "source": [
    "# get weighted means of each column\n",
    "weighted_mean_dict = {}\n",
    "for col in same_gics_stats_df.columns:\n",
    "    if col in ['ASX code', 'weight']:\n",
    "        continue\n",
    "    weighted_mean_dict[col] = np.average(\n",
    "        same_gics_stats_df[col], weights=same_gics_stats_df['weight'])\n",
    "\n",
    "weighted_mean_df = pd.DataFrame(weighted_mean_dict, index=[\n",
    "                                'GICS Industry Weighted Mean (Macro)'])\n",
    "weighted_mean_df\n",
    "\n",
    "stats_df = pd.concat([stats_df, weighted_mean_df.drop(columns=['Market Cap'])])\n",
    "stats_df"
   ]
  },
  {
   "cell_type": "code",
   "execution_count": 183,
   "metadata": {},
   "outputs": [
    {
     "data": {
      "text/plain": [
       "1.1051430970988516"
      ]
     },
     "execution_count": 183,
     "metadata": {},
     "output_type": "execute_result"
    }
   ],
   "source": [
    "ticker_mv['Market Cap'].values[0]/weighted_mean_df['Market Cap'].values[0]"
   ]
  },
  {
   "cell_type": "code",
   "execution_count": 184,
   "metadata": {},
   "outputs": [],
   "source": [
    "correlation_df, period_of_interest_return_df = historical_corr(\n",
    "    monthly_returns_df_dict, first_end_of_quarter, last_end_of_quarter)"
   ]
  },
  {
   "cell_type": "code",
   "execution_count": 185,
   "metadata": {},
   "outputs": [
    {
     "data": {
      "image/png": "[encoded data removed]",
      "text/plain": [
       "<Figure size 720x576 with 2 Axes>"
      ]
     },
     "metadata": {
      "needs_background": "light"
     },
     "output_type": "display_data"
    }
   ],
   "source": [
    "plot_correlation(correlation_df)"
   ]
  },
  {
   "cell_type": "code",
   "execution_count": 186,
   "metadata": {},
   "outputs": [
    {
     "data": {
      "image/png": "[encoded data removed]",
      "text/plain": [
       "<Figure size 576x576 with 3 Axes>"
      ]
     },
     "metadata": {
      "needs_background": "light"
     },
     "output_type": "display_data"
    }
   ],
   "source": [
    "plot_returns(**{'monthly_returns_df_dict': monthly_returns_df_dict,\n",
    "                'quarterly_returns_df_dict': quarterly_returns_df_dict,\n",
    "                'yearly_returns_df_dict': yearly_returns_df_dict, 'TICKER': TICKER,\n",
    "                'first_end_of_quarter': first_end_of_quarter,\n",
    "                'last_end_of_quarter': last_end_of_quarter})"
   ]
  },
  {
   "cell_type": "code",
   "execution_count": 187,
   "metadata": {},
   "outputs": [
    {
     "data": {
      "image/png": "[encoded data removed]",
      "text/plain": [
       "<Figure size 576x576 with 3 Axes>"
      ]
     },
     "metadata": {
      "needs_background": "light"
     },
     "output_type": "display_data"
    }
   ],
   "source": [
    "plot_returns(**{'monthly_returns_df_dict': monthly_returns_df_dict,\n",
    "                'quarterly_returns_df_dict': quarterly_returns_df_dict,\n",
    "                'yearly_returns_df_dict': yearly_returns_df_dict, 'TICKER': 'GICS Industry Weighted Mean',\n",
    "                'first_end_of_quarter': first_end_of_quarter,\n",
    "                'last_end_of_quarter': last_end_of_quarter})"
   ]
  },
  {
   "cell_type": "code",
   "execution_count": 188,
   "metadata": {},
   "outputs": [],
   "source": [
    "def plot_returns_comparative(monthly_returns_df_dict: dict, quarterly_returns_df_dict: dict, yearly_returns_df_dict: dict,\n",
    "                             TICKER: str,\n",
    "                             first_end_of_quarter: str, last_end_of_quarter: str, **kwargs):\n",
    "\n",
    "    # Create a figure and 3 subplots\n",
    "    fig, axs = plt.subplots(3, 1, figsize=(10, 10))\n",
    "\n",
    "    # Filter data for the selected range\n",
    "    interested_monthly_returns_df = monthly_returns_df_dict[TICKER][\n",
    "        monthly_returns_df_dict[TICKER].index > first_end_of_quarter]\n",
    "    interested_quarterly_returns_df = quarterly_returns_df_dict[TICKER][\n",
    "        quarterly_returns_df_dict[TICKER].index > first_end_of_quarter]\n",
    "    interested_yearly_returns_df = yearly_returns_df_dict[TICKER][\n",
    "        yearly_returns_df_dict[TICKER].index > first_end_of_quarter]\n",
    "\n",
    "    # Also filter for the industry weighted mean and AORD\n",
    "    industry_monthly_returns = monthly_returns_df_dict['GICS Industry Weighted Mean'][\n",
    "        monthly_returns_df_dict['GICS Industry Weighted Mean'].index > first_end_of_quarter]\n",
    "    aord_monthly_returns = monthly_returns_df_dict['^AORD'][\n",
    "        monthly_returns_df_dict['^AORD'].index > first_end_of_quarter]\n",
    "\n",
    "    # Define bar width and offsets\n",
    "    bar_width = 0.2\n",
    "    x_labels = interested_monthly_returns_df.index\n",
    "    x = np.arange(len(x_labels))\n",
    "\n",
    "    # Plot monthly returns for TICKER, GICS Industry Weighted Mean, and AORD\n",
    "    axs[0].bar(x - bar_width, interested_monthly_returns_df.values.flatten(),\n",
    "               width=bar_width, label=f'{TICKER} Monthly Returns (%)', color='red')\n",
    "    axs[0].bar(x, industry_monthly_returns.values.flatten(\n",
    "    ), width=bar_width, label='GICS Industry Weighted Mean (%)', color='blue')\n",
    "    axs[0].bar(x + bar_width, aord_monthly_returns.values.flatten(),\n",
    "               width=bar_width, label='^AORD (%)', color='green')\n",
    "    axs[0].axhline(y=0, color='gray', lw=1, linestyle=':', linewidth=0.5)\n",
    "    axs[0].set_title('Monthly Returns (%)')\n",
    "    axs[0].set_ylabel('Returns (%)')\n",
    "    axs[0].set_xticks(x)\n",
    "    axs[0].set_xticklabels(x_labels, rotation=90)\n",
    "    axs[0].legend()\n",
    "\n",
    "    # Repeat the same for quarterly returns\n",
    "    industry_quarterly_returns = quarterly_returns_df_dict['GICS Industry Weighted Mean'][\n",
    "        quarterly_returns_df_dict['GICS Industry Weighted Mean'].index > first_end_of_quarter]\n",
    "    aord_quarterly_returns = quarterly_returns_df_dict['^AORD'][\n",
    "        quarterly_returns_df_dict['^AORD'].index > first_end_of_quarter]\n",
    "\n",
    "    x_labels_quarterly = interested_quarterly_returns_df.index\n",
    "    x_quarterly = np.arange(len(x_labels_quarterly))\n",
    "\n",
    "    axs[1].bar(x_quarterly - bar_width, interested_quarterly_returns_df.values.flatten(),\n",
    "               width=bar_width, label=f'{TICKER} Quarterly Returns (%)', color='orange')\n",
    "    axs[1].bar(x_quarterly, industry_quarterly_returns.values.flatten(\n",
    "    ), width=bar_width, label='GICS Industry Weighted Mean (%)', color='blue')\n",
    "    axs[1].bar(x_quarterly + bar_width, aord_quarterly_returns.values.flatten(),\n",
    "               width=bar_width, label='^AORD (%)', color='green')\n",
    "    axs[1].axhline(y=0, color='gray', lw=1, linestyle=':', linewidth=0.5)\n",
    "    axs[1].set_title('Quarterly Returns (%)')\n",
    "    axs[1].set_ylabel('Returns (%)')\n",
    "    axs[1].set_xticks(x_quarterly)\n",
    "    axs[1].set_xticklabels(x_labels_quarterly, rotation=90)\n",
    "    axs[1].legend()\n",
    "\n",
    "    # # Add text above the bars for quarterly returns\n",
    "    # for i, value in enumerate(interested_quarterly_returns_df.values.flatten()):\n",
    "    #     axs[1].text(i, value, f'{value:.1f}%', ha='center',\n",
    "    #                 va='bottom', fontsize=8, rotation=45)\n",
    "\n",
    "    # Repeat for yearly returns\n",
    "    industry_yearly_returns = yearly_returns_df_dict['GICS Industry Weighted Mean'][\n",
    "        yearly_returns_df_dict['GICS Industry Weighted Mean'].index > first_end_of_quarter]\n",
    "    aord_yearly_returns = yearly_returns_df_dict['^AORD'][\n",
    "        yearly_returns_df_dict['^AORD'].index > first_end_of_quarter]\n",
    "\n",
    "    x_labels_yearly = interested_yearly_returns_df.index\n",
    "    x_yearly = np.arange(len(x_labels_yearly))\n",
    "\n",
    "    axs[2].bar(x_yearly - bar_width, interested_yearly_returns_df.values.flatten(),\n",
    "               width=bar_width, label=f'{TICKER} Yearly Returns (%)', color='yellow')\n",
    "    axs[2].bar(x_yearly, industry_yearly_returns.values.flatten(\n",
    "    ), width=bar_width, label='GICS Industry Weighted Mean (%)', color='blue')\n",
    "    axs[2].bar(x_yearly + bar_width, aord_yearly_returns.values.flatten(),\n",
    "               width=bar_width, label='^AORD (%)', color='green')\n",
    "    axs[2].axhline(y=0, color='gray', lw=1, linestyle=':', linewidth=0.5)\n",
    "    axs[2].set_title('Yearly Returns (%)')\n",
    "    axs[2].set_ylabel('Returns (%)')\n",
    "    axs[2].set_xticks(x_yearly)\n",
    "    axs[2].set_xticklabels(x_labels_yearly, rotation=90)\n",
    "    axs[2].legend()\n",
    "\n",
    "    # Add text above the bars for yearly returns\n",
    "    # for i, value in enumerate(interested_yearly_returns_df.values.flatten()):\n",
    "    #     axs[2].text(i, value, f'{value:.1f}%', ha='center',\n",
    "    #                 va='bottom', fontsize=8, rotation=45)\n",
    "\n",
    "    # Set x-label only on the last subplot\n",
    "    axs[2].set_xlabel('Date')\n",
    "\n",
    "    fig.suptitle(\n",
    "        f'{TICKER} Returns from {first_end_of_quarter} to {last_end_of_quarter}', fontsize=16)\n",
    "\n",
    "    # Tight layout for better spacing between plots\n",
    "    plt.tight_layout()\n",
    "\n",
    "    # Show the plot\n",
    "    plt.show()"
   ]
  },
  {
   "cell_type": "code",
   "execution_count": 189,
   "metadata": {},
   "outputs": [
    {
     "ename": "ValueError",
     "evalue": "shape mismatch: objects cannot be broadcast to a single shape.  Mismatch is between arg 0 with shape (52,) and arg 1 with shape (40,).",
     "output_type": "error",
     "traceback": [
      "\u001b[0;31m---------------------------------------------------------------------------\u001b[0m",
      "\u001b[0;31mValueError\u001b[0m                                Traceback (most recent call last)",
      "\u001b[0;32m/var/folders/xg/8w_3dndd6l5c3n99vd7vd3f40000gn/T/ipykernel_11932/1573013025.py\u001b[0m in \u001b[0;36m<module>\u001b[0;34m\u001b[0m\n\u001b[0;32m----> 1\u001b[0;31m plot_returns_comparative(**{'monthly_returns_df_dict': monthly_returns_df_dict,\n\u001b[0m\u001b[1;32m      2\u001b[0m                             \u001b[0;34m'quarterly_returns_df_dict'\u001b[0m\u001b[0;34m:\u001b[0m \u001b[0mquarterly_returns_df_dict\u001b[0m\u001b[0;34m,\u001b[0m\u001b[0;34m\u001b[0m\u001b[0;34m\u001b[0m\u001b[0m\n\u001b[1;32m      3\u001b[0m                             \u001b[0;34m'yearly_returns_df_dict'\u001b[0m\u001b[0;34m:\u001b[0m \u001b[0myearly_returns_df_dict\u001b[0m\u001b[0;34m,\u001b[0m \u001b[0;34m'TICKER'\u001b[0m\u001b[0;34m:\u001b[0m \u001b[0mTICKER\u001b[0m\u001b[0;34m,\u001b[0m\u001b[0;34m\u001b[0m\u001b[0;34m\u001b[0m\u001b[0m\n\u001b[1;32m      4\u001b[0m                             \u001b[0;34m'first_end_of_quarter'\u001b[0m\u001b[0;34m:\u001b[0m \u001b[0mfirst_end_of_quarter\u001b[0m\u001b[0;34m,\u001b[0m\u001b[0;34m\u001b[0m\u001b[0;34m\u001b[0m\u001b[0m\n\u001b[1;32m      5\u001b[0m                             'last_end_of_quarter': last_end_of_quarter})\n",
      "\u001b[0;32m/var/folders/xg/8w_3dndd6l5c3n99vd7vd3f40000gn/T/ipykernel_11932/3552723250.py\u001b[0m in \u001b[0;36mplot_returns_comparative\u001b[0;34m(monthly_returns_df_dict, quarterly_returns_df_dict, yearly_returns_df_dict, TICKER, first_end_of_quarter, last_end_of_quarter, **kwargs)\u001b[0m\n\u001b[1;32m     28\u001b[0m     axs[0].bar(x - bar_width, interested_monthly_returns_df.values.flatten(),\n\u001b[1;32m     29\u001b[0m                width=bar_width, label=f'{TICKER} Monthly Returns (%)', color='red')\n\u001b[0;32m---> 30\u001b[0;31m     axs[0].bar(x, industry_monthly_returns.values.flatten(\n\u001b[0m\u001b[1;32m     31\u001b[0m     ), width=bar_width, label='GICS Industry Weighted Mean (%)', color='blue')\n\u001b[1;32m     32\u001b[0m     axs[0].bar(x + bar_width, aord_monthly_returns.values.flatten(),\n",
      "\u001b[0;32m/Applications/anaconda3/lib/python3.9/site-packages/matplotlib/__init__.py\u001b[0m in \u001b[0;36minner\u001b[0;34m(ax, data, *args, **kwargs)\u001b[0m\n\u001b[1;32m   1440\u001b[0m     \u001b[0;32mdef\u001b[0m \u001b[0minner\u001b[0m\u001b[0;34m(\u001b[0m\u001b[0max\u001b[0m\u001b[0;34m,\u001b[0m \u001b[0;34m*\u001b[0m\u001b[0margs\u001b[0m\u001b[0;34m,\u001b[0m \u001b[0mdata\u001b[0m\u001b[0;34m=\u001b[0m\u001b[0;32mNone\u001b[0m\u001b[0;34m,\u001b[0m \u001b[0;34m**\u001b[0m\u001b[0mkwargs\u001b[0m\u001b[0;34m)\u001b[0m\u001b[0;34m:\u001b[0m\u001b[0;34m\u001b[0m\u001b[0;34m\u001b[0m\u001b[0m\n\u001b[1;32m   1441\u001b[0m         \u001b[0;32mif\u001b[0m \u001b[0mdata\u001b[0m \u001b[0;32mis\u001b[0m \u001b[0;32mNone\u001b[0m\u001b[0;34m:\u001b[0m\u001b[0;34m\u001b[0m\u001b[0;34m\u001b[0m\u001b[0m\n\u001b[0;32m-> 1442\u001b[0;31m             \u001b[0;32mreturn\u001b[0m \u001b[0mfunc\u001b[0m\u001b[0;34m(\u001b[0m\u001b[0max\u001b[0m\u001b[0;34m,\u001b[0m \u001b[0;34m*\u001b[0m\u001b[0mmap\u001b[0m\u001b[0;34m(\u001b[0m\u001b[0msanitize_sequence\u001b[0m\u001b[0;34m,\u001b[0m \u001b[0margs\u001b[0m\u001b[0;34m)\u001b[0m\u001b[0;34m,\u001b[0m \u001b[0;34m**\u001b[0m\u001b[0mkwargs\u001b[0m\u001b[0;34m)\u001b[0m\u001b[0;34m\u001b[0m\u001b[0;34m\u001b[0m\u001b[0m\n\u001b[0m\u001b[1;32m   1443\u001b[0m \u001b[0;34m\u001b[0m\u001b[0m\n\u001b[1;32m   1444\u001b[0m         \u001b[0mbound\u001b[0m \u001b[0;34m=\u001b[0m \u001b[0mnew_sig\u001b[0m\u001b[0;34m.\u001b[0m\u001b[0mbind\u001b[0m\u001b[0;34m(\u001b[0m\u001b[0max\u001b[0m\u001b[0;34m,\u001b[0m \u001b[0;34m*\u001b[0m\u001b[0margs\u001b[0m\u001b[0;34m,\u001b[0m \u001b[0;34m**\u001b[0m\u001b[0mkwargs\u001b[0m\u001b[0;34m)\u001b[0m\u001b[0;34m\u001b[0m\u001b[0;34m\u001b[0m\u001b[0m\n",
      "\u001b[0;32m/Applications/anaconda3/lib/python3.9/site-packages/matplotlib/axes/_axes.py\u001b[0m in \u001b[0;36mbar\u001b[0;34m(self, x, height, width, bottom, align, **kwargs)\u001b[0m\n\u001b[1;32m   2415\u001b[0m                 \u001b[0myerr\u001b[0m \u001b[0;34m=\u001b[0m \u001b[0mself\u001b[0m\u001b[0;34m.\u001b[0m\u001b[0m_convert_dx\u001b[0m\u001b[0;34m(\u001b[0m\u001b[0myerr\u001b[0m\u001b[0;34m,\u001b[0m \u001b[0my0\u001b[0m\u001b[0;34m,\u001b[0m \u001b[0my\u001b[0m\u001b[0;34m,\u001b[0m \u001b[0mself\u001b[0m\u001b[0;34m.\u001b[0m\u001b[0mconvert_yunits\u001b[0m\u001b[0;34m)\u001b[0m\u001b[0;34m\u001b[0m\u001b[0;34m\u001b[0m\u001b[0m\n\u001b[1;32m   2416\u001b[0m \u001b[0;34m\u001b[0m\u001b[0m\n\u001b[0;32m-> 2417\u001b[0;31m         x, height, width, y, linewidth, hatch = np.broadcast_arrays(\n\u001b[0m\u001b[1;32m   2418\u001b[0m             \u001b[0;31m# Make args iterable too.\u001b[0m\u001b[0;34m\u001b[0m\u001b[0;34m\u001b[0m\u001b[0m\n\u001b[1;32m   2419\u001b[0m             np.atleast_1d(x), height, width, y, linewidth, hatch)\n",
      "\u001b[0;32m/Applications/anaconda3/lib/python3.9/site-packages/numpy/core/overrides.py\u001b[0m in \u001b[0;36mbroadcast_arrays\u001b[0;34m(*args, **kwargs)\u001b[0m\n",
      "\u001b[0;32m/Applications/anaconda3/lib/python3.9/site-packages/numpy/lib/stride_tricks.py\u001b[0m in \u001b[0;36mbroadcast_arrays\u001b[0;34m(subok, *args)\u001b[0m\n\u001b[1;32m    537\u001b[0m     \u001b[0margs\u001b[0m \u001b[0;34m=\u001b[0m \u001b[0;34m[\u001b[0m\u001b[0mnp\u001b[0m\u001b[0;34m.\u001b[0m\u001b[0marray\u001b[0m\u001b[0;34m(\u001b[0m\u001b[0m_m\u001b[0m\u001b[0;34m,\u001b[0m \u001b[0mcopy\u001b[0m\u001b[0;34m=\u001b[0m\u001b[0;32mFalse\u001b[0m\u001b[0;34m,\u001b[0m \u001b[0msubok\u001b[0m\u001b[0;34m=\u001b[0m\u001b[0msubok\u001b[0m\u001b[0;34m)\u001b[0m \u001b[0;32mfor\u001b[0m \u001b[0m_m\u001b[0m \u001b[0;32min\u001b[0m \u001b[0margs\u001b[0m\u001b[0;34m]\u001b[0m\u001b[0;34m\u001b[0m\u001b[0;34m\u001b[0m\u001b[0m\n\u001b[1;32m    538\u001b[0m \u001b[0;34m\u001b[0m\u001b[0m\n\u001b[0;32m--> 539\u001b[0;31m     \u001b[0mshape\u001b[0m \u001b[0;34m=\u001b[0m \u001b[0m_broadcast_shape\u001b[0m\u001b[0;34m(\u001b[0m\u001b[0;34m*\u001b[0m\u001b[0margs\u001b[0m\u001b[0;34m)\u001b[0m\u001b[0;34m\u001b[0m\u001b[0;34m\u001b[0m\u001b[0m\n\u001b[0m\u001b[1;32m    540\u001b[0m \u001b[0;34m\u001b[0m\u001b[0m\n\u001b[1;32m    541\u001b[0m     \u001b[0;32mif\u001b[0m \u001b[0mall\u001b[0m\u001b[0;34m(\u001b[0m\u001b[0marray\u001b[0m\u001b[0;34m.\u001b[0m\u001b[0mshape\u001b[0m \u001b[0;34m==\u001b[0m \u001b[0mshape\u001b[0m \u001b[0;32mfor\u001b[0m \u001b[0marray\u001b[0m \u001b[0;32min\u001b[0m \u001b[0margs\u001b[0m\u001b[0;34m)\u001b[0m\u001b[0;34m:\u001b[0m\u001b[0;34m\u001b[0m\u001b[0;34m\u001b[0m\u001b[0m\n",
      "\u001b[0;32m/Applications/anaconda3/lib/python3.9/site-packages/numpy/lib/stride_tricks.py\u001b[0m in \u001b[0;36m_broadcast_shape\u001b[0;34m(*args)\u001b[0m\n\u001b[1;32m    419\u001b[0m     \u001b[0;31m# use the old-iterator because np.nditer does not handle size 0 arrays\u001b[0m\u001b[0;34m\u001b[0m\u001b[0;34m\u001b[0m\u001b[0m\n\u001b[1;32m    420\u001b[0m     \u001b[0;31m# consistently\u001b[0m\u001b[0;34m\u001b[0m\u001b[0;34m\u001b[0m\u001b[0m\n\u001b[0;32m--> 421\u001b[0;31m     \u001b[0mb\u001b[0m \u001b[0;34m=\u001b[0m \u001b[0mnp\u001b[0m\u001b[0;34m.\u001b[0m\u001b[0mbroadcast\u001b[0m\u001b[0;34m(\u001b[0m\u001b[0;34m*\u001b[0m\u001b[0margs\u001b[0m\u001b[0;34m[\u001b[0m\u001b[0;34m:\u001b[0m\u001b[0;36m32\u001b[0m\u001b[0;34m]\u001b[0m\u001b[0;34m)\u001b[0m\u001b[0;34m\u001b[0m\u001b[0;34m\u001b[0m\u001b[0m\n\u001b[0m\u001b[1;32m    422\u001b[0m     \u001b[0;31m# unfortunately, it cannot handle 32 or more arguments directly\u001b[0m\u001b[0;34m\u001b[0m\u001b[0;34m\u001b[0m\u001b[0m\n\u001b[1;32m    423\u001b[0m     \u001b[0;32mfor\u001b[0m \u001b[0mpos\u001b[0m \u001b[0;32min\u001b[0m \u001b[0mrange\u001b[0m\u001b[0;34m(\u001b[0m\u001b[0;36m32\u001b[0m\u001b[0;34m,\u001b[0m \u001b[0mlen\u001b[0m\u001b[0;34m(\u001b[0m\u001b[0margs\u001b[0m\u001b[0;34m)\u001b[0m\u001b[0;34m,\u001b[0m \u001b[0;36m31\u001b[0m\u001b[0;34m)\u001b[0m\u001b[0;34m:\u001b[0m\u001b[0;34m\u001b[0m\u001b[0;34m\u001b[0m\u001b[0m\n",
      "\u001b[0;31mValueError\u001b[0m: shape mismatch: objects cannot be broadcast to a single shape.  Mismatch is between arg 0 with shape (52,) and arg 1 with shape (40,)."
     ]
    },
    {
     "data": {
      "image/png": "[encoded data removed]",
      "text/plain": [
       "<Figure size 720x720 with 3 Axes>"
      ]
     },
     "metadata": {
      "needs_background": "light"
     },
     "output_type": "display_data"
    }
   ],
   "source": [
    "plot_returns_comparative(**{'monthly_returns_df_dict': monthly_returns_df_dict,\n",
    "                            'quarterly_returns_df_dict': quarterly_returns_df_dict,\n",
    "                            'yearly_returns_df_dict': yearly_returns_df_dict, 'TICKER': TICKER,\n",
    "                            'first_end_of_quarter': first_end_of_quarter,\n",
    "                            'last_end_of_quarter': last_end_of_quarter})"
   ]
  },
  {
   "cell_type": "code",
   "execution_count": 33,
   "metadata": {},
   "outputs": [
    {
     "data": {
      "image/png": "[encoded data removed]",
      "text/plain": [
       "<Figure size 432x288 with 1 Axes>"
      ]
     },
     "metadata": {
      "needs_background": "light"
     },
     "output_type": "display_data"
    }
   ],
   "source": [
    "# TODO: recent plot - different intervals\n",
    "\n",
    "plt.title(f'{TICKER} Close Price')\n",
    "plt.plot(historical_prices[TICKER]['Close'])\n",
    "# plot some horizontal lines at each dollar (dotted faint line)\n",
    "for i in range(int(np.ceil(historical_prices[TICKER]['Close'].min())-1), int(np.floor(historical_prices[TICKER]['Close'].max()))+1):\n",
    "    plt.axhline(y=i, color='gray', linestyle=':', linewidth=0.5)\n",
    "plt.show()"
   ]
  },
  {
   "cell_type": "code",
   "execution_count": 34,
   "metadata": {},
   "outputs": [
    {
     "data": {
      "text/html": [
       "<div>\n",
       "<style scoped>\n",
       "    .dataframe tbody tr th:only-of-type {\n",
       "        vertical-align: middle;\n",
       "    }\n",
       "\n",
       "    .dataframe tbody tr th {\n",
       "        vertical-align: top;\n",
       "    }\n",
       "\n",
       "    .dataframe thead th {\n",
       "        text-align: right;\n",
       "    }\n",
       "</style>\n",
       "<table border=\"1\" class=\"dataframe\">\n",
       "  <thead>\n",
       "    <tr style=\"text-align: right;\">\n",
       "      <th></th>\n",
       "      <th>Dividends</th>\n",
       "    </tr>\n",
       "    <tr>\n",
       "      <th>Date</th>\n",
       "      <th></th>\n",
       "    </tr>\n",
       "  </thead>\n",
       "  <tbody>\n",
       "    <tr>\n",
       "      <th>2019-09-05 00:00:00+10:00</th>\n",
       "      <td>1.137026</td>\n",
       "    </tr>\n",
       "    <tr>\n",
       "      <th>2020-03-05 00:00:00+11:00</th>\n",
       "      <td>0.994036</td>\n",
       "    </tr>\n",
       "    <tr>\n",
       "      <th>2020-09-03 00:00:00+10:00</th>\n",
       "      <td>0.754561</td>\n",
       "    </tr>\n",
       "    <tr>\n",
       "      <th>2021-03-04 00:00:00+11:00</th>\n",
       "      <td>1.311347</td>\n",
       "    </tr>\n",
       "    <tr>\n",
       "      <th>2021-09-02 00:00:00+10:00</th>\n",
       "      <td>2.715270</td>\n",
       "    </tr>\n",
       "    <tr>\n",
       "      <th>2022-02-24 00:00:00+11:00</th>\n",
       "      <td>2.080559</td>\n",
       "    </tr>\n",
       "    <tr>\n",
       "      <th>2022-09-01 00:00:00+10:00</th>\n",
       "      <td>2.551839</td>\n",
       "    </tr>\n",
       "    <tr>\n",
       "      <th>2023-03-09 00:00:00+11:00</th>\n",
       "      <td>1.363636</td>\n",
       "    </tr>\n",
       "    <tr>\n",
       "      <th>2023-09-07 00:00:00+10:00</th>\n",
       "      <td>1.250651</td>\n",
       "    </tr>\n",
       "    <tr>\n",
       "      <th>2024-03-07 00:00:00+11:00</th>\n",
       "      <td>1.096196</td>\n",
       "    </tr>\n",
       "    <tr>\n",
       "      <th>2024-09-12 00:00:00+10:00</th>\n",
       "      <td>1.092090</td>\n",
       "    </tr>\n",
       "  </tbody>\n",
       "</table>\n",
       "</div>"
      ],
      "text/plain": [
       "                           Dividends\n",
       "Date                                \n",
       "2019-09-05 00:00:00+10:00   1.137026\n",
       "2020-03-05 00:00:00+11:00   0.994036\n",
       "2020-09-03 00:00:00+10:00   0.754561\n",
       "2021-03-04 00:00:00+11:00   1.311347\n",
       "2021-09-02 00:00:00+10:00   2.715270\n",
       "2022-02-24 00:00:00+11:00   2.080559\n",
       "2022-09-01 00:00:00+10:00   2.551839\n",
       "2023-03-09 00:00:00+11:00   1.363636\n",
       "2023-09-07 00:00:00+10:00   1.250651\n",
       "2024-03-07 00:00:00+11:00   1.096196\n",
       "2024-09-12 00:00:00+10:00   1.092090"
      ]
     },
     "metadata": {},
     "output_type": "display_data"
    }
   ],
   "source": [
    "# dividends\n",
    "display(historical_prices[TICKER][historical_prices[TICKER]\n",
    "                                  ['Dividends'] > 0][['Dividends']])"
   ]
  },
  {
   "cell_type": "code",
   "execution_count": 35,
   "metadata": {},
   "outputs": [
    {
     "data": {
      "text/html": [
       "<div>\n",
       "<style scoped>\n",
       "    .dataframe tbody tr th:only-of-type {\n",
       "        vertical-align: middle;\n",
       "    }\n",
       "\n",
       "    .dataframe tbody tr th {\n",
       "        vertical-align: top;\n",
       "    }\n",
       "\n",
       "    .dataframe thead th {\n",
       "        text-align: right;\n",
       "    }\n",
       "</style>\n",
       "<table border=\"1\" class=\"dataframe\">\n",
       "  <thead>\n",
       "    <tr style=\"text-align: right;\">\n",
       "      <th></th>\n",
       "      <th>Stock Splits</th>\n",
       "    </tr>\n",
       "    <tr>\n",
       "      <th>Date</th>\n",
       "      <th></th>\n",
       "    </tr>\n",
       "  </thead>\n",
       "  <tbody>\n",
       "  </tbody>\n",
       "</table>\n",
       "</div>"
      ],
      "text/plain": [
       "Empty DataFrame\n",
       "Columns: [Stock Splits]\n",
       "Index: []"
      ]
     },
     "metadata": {},
     "output_type": "display_data"
    }
   ],
   "source": [
    "# stock splits\n",
    "display(historical_prices[TICKER][historical_prices[TICKER]\n",
    "        ['Stock Splits'] > 0][['Stock Splits']])"
   ]
  },
  {
   "cell_type": "code",
   "execution_count": 36,
   "metadata": {},
   "outputs": [
    {
     "ename": "AssertionError",
     "evalue": "",
     "output_type": "error",
     "traceback": [
      "\u001b[0;31m---------------------------------------------------------------------------\u001b[0m",
      "\u001b[0;31mAssertionError\u001b[0m                            Traceback (most recent call last)",
      "\u001b[0;32m/var/folders/xg/8w_3dndd6l5c3n99vd7vd3f40000gn/T/ipykernel_11932/2103537015.py\u001b[0m in \u001b[0;36m<module>\u001b[0;34m\u001b[0m\n\u001b[0;32m----> 1\u001b[0;31m \u001b[0;32massert\u001b[0m \u001b[0;32mFalse\u001b[0m\u001b[0;34m\u001b[0m\u001b[0;34m\u001b[0m\u001b[0m\n\u001b[0m",
      "\u001b[0;31mAssertionError\u001b[0m: "
     ]
    }
   ],
   "source": [
    "assert False"
   ]
  },
  {
   "cell_type": "markdown",
   "metadata": {},
   "source": [
    "# Other Stats"
   ]
  },
  {
   "cell_type": "code",
   "execution_count": null,
   "metadata": {},
   "outputs": [],
   "source": [
    "TICKER = 'NVX'"
   ]
  },
  {
   "cell_type": "code",
   "execution_count": null,
   "metadata": {},
   "outputs": [],
   "source": [
    "object = yf.Ticker(f'{TICKER}.AX')"
   ]
  },
  {
   "cell_type": "code",
   "execution_count": null,
   "metadata": {},
   "outputs": [],
   "source": [
    "balance_sheet_row = [\n",
    "    'Total Debt',  # total debt\n",
    "    'Stockholders Equity',  # total equity & book value\n",
    "    'Share Issued',  # n shares\n",
    "]\n",
    "balance_sheet = object.balance_sheet.loc[balance_sheet_row]"
   ]
  },
  {
   "cell_type": "code",
   "execution_count": null,
   "metadata": {},
   "outputs": [],
   "source": [
    "cashflow_row = [\n",
    "    'Free Cash Flow',  # cashflow\n",
    "    'End Cash Position'  # cash\n",
    "]\n",
    "\n",
    "cashflows = object.cashflow.loc[cashflow_row]"
   ]
  },
  {
   "cell_type": "code",
   "execution_count": null,
   "metadata": {},
   "outputs": [],
   "source": [
    "financial_row = [\n",
    "    'EBIT',\n",
    "    'Gross Profit',  # profit\n",
    "    'Total Revenue'  # revenue\n",
    "]\n",
    "\n",
    "financials = object.financials.loc[financial_row]"
   ]
  },
  {
   "cell_type": "code",
   "execution_count": null,
   "metadata": {},
   "outputs": [],
   "source": [
    "stock_fundementals = pd.concat([balance_sheet, cashflows, financials]).T\n",
    "# sort the rows by index\n",
    "stock_fundementals = stock_fundementals.sort_index()"
   ]
  },
  {
   "cell_type": "code",
   "execution_count": null,
   "metadata": {},
   "outputs": [],
   "source": [
    "stock_fundementals['EPS'] = stock_fundementals['EBIT'] / \\\n",
    "    stock_fundementals['Share Issued']\n",
    "stock_fundementals['D/E'] = stock_fundementals['Total Debt'] / \\\n",
    "    stock_fundementals['Stockholders Equity']\n",
    "stock_fundementals['Book Value Per Share'] = stock_fundementals['Stockholders Equity'] / \\\n",
    "    stock_fundementals['Share Issued']"
   ]
  },
  {
   "cell_type": "code",
   "execution_count": null,
   "metadata": {},
   "outputs": [],
   "source": [
    "# if whole row is NaN, drop it\n",
    "stock_fundementals = stock_fundementals.dropna(how='all')"
   ]
  },
  {
   "cell_type": "code",
   "execution_count": null,
   "metadata": {},
   "outputs": [
    {
     "data": {
      "text/html": [
       "<div>\n",
       "<style scoped>\n",
       "    .dataframe tbody tr th:only-of-type {\n",
       "        vertical-align: middle;\n",
       "    }\n",
       "\n",
       "    .dataframe tbody tr th {\n",
       "        vertical-align: top;\n",
       "    }\n",
       "\n",
       "    .dataframe thead th {\n",
       "        text-align: right;\n",
       "    }\n",
       "</style>\n",
       "<table border=\"1\" class=\"dataframe\">\n",
       "  <thead>\n",
       "    <tr style=\"text-align: right;\">\n",
       "      <th></th>\n",
       "      <th>Total Debt</th>\n",
       "      <th>Stockholders Equity</th>\n",
       "      <th>Share Issued</th>\n",
       "      <th>Free Cash Flow</th>\n",
       "      <th>End Cash Position</th>\n",
       "      <th>EBIT</th>\n",
       "      <th>Gross Profit</th>\n",
       "      <th>Total Revenue</th>\n",
       "      <th>EPS</th>\n",
       "      <th>D/E</th>\n",
       "      <th>Book Value Per Share</th>\n",
       "    </tr>\n",
       "  </thead>\n",
       "  <tbody>\n",
       "    <tr>\n",
       "      <th>2020-06-30</th>\n",
       "      <td>NaN</td>\n",
       "      <td>NaN</td>\n",
       "      <td>NaN</td>\n",
       "      <td>-7426208.0</td>\n",
       "      <td>26690276.0</td>\n",
       "      <td>-11072623.0</td>\n",
       "      <td>2016403.0</td>\n",
       "      <td>2851035.0</td>\n",
       "      <td>NaN</td>\n",
       "      <td>NaN</td>\n",
       "      <td>NaN</td>\n",
       "    </tr>\n",
       "    <tr>\n",
       "      <th>2021-06-30</th>\n",
       "      <td>10356322.0</td>\n",
       "      <td>138449834.0</td>\n",
       "      <td>404601384.0</td>\n",
       "      <td>-25664712.0</td>\n",
       "      <td>102601252.0</td>\n",
       "      <td>-13305925.0</td>\n",
       "      <td>3083075.0</td>\n",
       "      <td>3893739.0</td>\n",
       "      <td>-0.032887</td>\n",
       "      <td>0.074802</td>\n",
       "      <td>0.342188</td>\n",
       "    </tr>\n",
       "    <tr>\n",
       "      <th>2022-06-30</th>\n",
       "      <td>42309006.0</td>\n",
       "      <td>251133478.0</td>\n",
       "      <td>485951369.0</td>\n",
       "      <td>-113019442.0</td>\n",
       "      <td>142737362.0</td>\n",
       "      <td>-50391738.0</td>\n",
       "      <td>4376530.0</td>\n",
       "      <td>6101155.0</td>\n",
       "      <td>-0.103697</td>\n",
       "      <td>0.168472</td>\n",
       "      <td>0.516787</td>\n",
       "    </tr>\n",
       "    <tr>\n",
       "      <th>2022-12-31</th>\n",
       "      <td>41341840.0</td>\n",
       "      <td>226056269.0</td>\n",
       "      <td>486774622.0</td>\n",
       "      <td>NaN</td>\n",
       "      <td>NaN</td>\n",
       "      <td>NaN</td>\n",
       "      <td>NaN</td>\n",
       "      <td>NaN</td>\n",
       "      <td>NaN</td>\n",
       "      <td>0.182883</td>\n",
       "      <td>0.464396</td>\n",
       "    </tr>\n",
       "    <tr>\n",
       "      <th>2023-12-31</th>\n",
       "      <td>69387750.0</td>\n",
       "      <td>183936275.0</td>\n",
       "      <td>488733461.0</td>\n",
       "      <td>-55424219.0</td>\n",
       "      <td>78713885.0</td>\n",
       "      <td>-43602661.0</td>\n",
       "      <td>5237259.0</td>\n",
       "      <td>8054528.0</td>\n",
       "      <td>-0.089216</td>\n",
       "      <td>0.377238</td>\n",
       "      <td>0.376353</td>\n",
       "    </tr>\n",
       "  </tbody>\n",
       "</table>\n",
       "</div>"
      ],
      "text/plain": [
       "            Total Debt Stockholders Equity Share Issued Free Cash Flow  \\\n",
       "2020-06-30         NaN                 NaN          NaN     -7426208.0   \n",
       "2021-06-30  10356322.0         138449834.0  404601384.0    -25664712.0   \n",
       "2022-06-30  42309006.0         251133478.0  485951369.0   -113019442.0   \n",
       "2022-12-31  41341840.0         226056269.0  486774622.0            NaN   \n",
       "2023-12-31  69387750.0         183936275.0  488733461.0    -55424219.0   \n",
       "\n",
       "           End Cash Position        EBIT Gross Profit Total Revenue       EPS  \\\n",
       "2020-06-30        26690276.0 -11072623.0    2016403.0     2851035.0       NaN   \n",
       "2021-06-30       102601252.0 -13305925.0    3083075.0     3893739.0 -0.032887   \n",
       "2022-06-30       142737362.0 -50391738.0    4376530.0     6101155.0 -0.103697   \n",
       "2022-12-31               NaN         NaN          NaN           NaN       NaN   \n",
       "2023-12-31        78713885.0 -43602661.0    5237259.0     8054528.0 -0.089216   \n",
       "\n",
       "                 D/E Book Value Per Share  \n",
       "2020-06-30       NaN                  NaN  \n",
       "2021-06-30  0.074802             0.342188  \n",
       "2022-06-30  0.168472             0.516787  \n",
       "2022-12-31  0.182883             0.464396  \n",
       "2023-12-31  0.377238             0.376353  "
      ]
     },
     "execution_count": 188,
     "metadata": {},
     "output_type": "execute_result"
    }
   ],
   "source": [
    "stock_fundementals"
   ]
  },
  {
   "cell_type": "code",
   "execution_count": null,
   "metadata": {},
   "outputs": [],
   "source": [
    "# gross margin = gross profit / total revenue\n",
    "# net margin = ebit / total revenue\n",
    "\n",
    "# interest coverage: ebit / interest expense (or finance cost)"
   ]
  },
  {
   "cell_type": "markdown",
   "metadata": {},
   "source": [
    "# TODO:\n",
    "\n",
    "\n",
    "\n",
    "Need to calculate:\n",
    "- multiples\n",
    "    - needs a price\n",
    "- percentage change\n",
    "\n",
    "- (after confirm all our multiples) want to get average of peers, weighted. \n",
    "\n",
    "- peer weighted first part growth.\n",
    "\n",
    "Challenges:\n",
    "- different dates of report (june 30th or dec 31st) (challenge for calculating percentage growth)\n",
    "\n",
    "- nans occuring in different places (challenge for calculating percentage growth)\n",
    "\n",
    "- engineering problem: \n",
    "    - getting stock data takes quite a long time... (first part)\n",
    "    \n",
    "\n",
    "Presentation:\n",
    "- present it in a pdf report"
   ]
  },
  {
   "cell_type": "markdown",
   "metadata": {},
   "source": []
  },
  {
   "cell_type": "markdown",
   "metadata": {},
   "source": []
  }
 ],
 "metadata": {
  "kernelspec": {
   "display_name": "base",
   "language": "python",
   "name": "python3"
  },
  "language_info": {
   "codemirror_mode": {
    "name": "ipython",
    "version": 3
   },
   "file_extension": ".py",
   "mimetype": "text/x-python",
   "name": "python",
   "nbconvert_exporter": "python",
   "pygments_lexer": "ipython3",
   "version": "3.9.7"
  }
 },
 "nbformat": 4,
 "nbformat_minor": 2
}
