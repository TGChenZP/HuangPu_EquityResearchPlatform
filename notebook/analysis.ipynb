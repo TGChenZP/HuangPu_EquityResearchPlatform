{
 "cells": [
  {
   "cell_type": "markdown",
   "metadata": {},
   "source": [
    "# Stock analysis"
   ]
  },
  {
   "cell_type": "markdown",
   "metadata": {},
   "source": [
    "## Import"
   ]
  },
  {
   "cell_type": "markdown",
   "metadata": {},
   "source": [
    "Libraries"
   ]
  },
  {
   "cell_type": "code",
   "execution_count": 1,
   "metadata": {},
   "outputs": [],
   "source": [
    "import pandas as pd\n",
    "import numpy as np\n",
    "import statsmodels.api as sm\n",
    "import matplotlib.pyplot as plt\n",
    "\n",
    "import yfinance as yf"
   ]
  },
  {
   "cell_type": "markdown",
   "metadata": {},
   "source": [
    "Definitions"
   ]
  },
  {
   "cell_type": "code",
   "execution_count": 2,
   "metadata": {},
   "outputs": [],
   "source": [
    "import warnings\n",
    "warnings.filterwarnings(\"ignore\")"
   ]
  },
  {
   "cell_type": "code",
   "execution_count": 3,
   "metadata": {},
   "outputs": [],
   "source": [
    "index_tickers = ['^AXJO', '^AXKO', '^AXSO', '^AORD']\n",
    "# Proxy for 200, 300, small ord, all ords"
   ]
  },
  {
   "cell_type": "markdown",
   "metadata": {},
   "source": [
    "## Get data"
   ]
  },
  {
   "cell_type": "markdown",
   "metadata": {},
   "source": [
    "Define Functions"
   ]
  },
  {
   "cell_type": "code",
   "execution_count": 4,
   "metadata": {},
   "outputs": [],
   "source": [
    "def get_prices(ticker: str, start_date: str, end_date: str = None, interval: str = '1d') -> pd.DataFrame:\n",
    "    \"\"\" \n",
    "    Get historical prices for a given ticker.\n",
    "\n",
    "    Parameters:\n",
    "        - ticker (str): The ticker symbol of the stock.\n",
    "        - start (str): The start date of the historical prices.\n",
    "        - end_str (str): (default=None) The end date of the historical prices.\n",
    "        - interval (str): (default='1d') The interval of the historical prices.\n",
    "    \"\"\"\n",
    "\n",
    "    price_df_list = []\n",
    "\n",
    "    if end_date is None:\n",
    "        end_date = pd.Timestamp.now().strftime('%Y-%m-%d')\n",
    "\n",
    "    start_year = int(start_date.split('-')[0])\n",
    "    end_year = int(end_date.split('-')[0])\n",
    "\n",
    "    # get prices for each year and concat to get the full price_df\n",
    "    for year in range(start_year, end_year + 1):\n",
    "        if year == start_year:\n",
    "            price_df = yf.Ticker(ticker).history(\n",
    "                interval=interval, start=start_date, end=f'{year}-12-31')\n",
    "        elif year == end_year:\n",
    "            price_df = yf.Ticker(ticker).history(\n",
    "                interval=interval, start=f'{year}-01-01', end=end_date)\n",
    "        else:\n",
    "            price_df = yf.Ticker(ticker).history(\n",
    "                interval=interval, start=f'{year}-01-01', end=f'{year}-12-31')\n",
    "\n",
    "        price_df_list.append(price_df)\n",
    "\n",
    "    price_df = pd.concat(price_df_list)\n",
    "\n",
    "    try:\n",
    "        price_df['Dividends'] = price_df['Dividends'].astype(float)\n",
    "    except:\n",
    "        pass\n",
    "\n",
    "    return price_df"
   ]
  },
  {
   "cell_type": "code",
   "execution_count": 5,
   "metadata": {},
   "outputs": [],
   "source": [
    "def get_return(price_df: pd.DataFrame, interval: str = 'M') -> pd.DataFrame:\n",
    "    \"\"\" \n",
    "    Get return of stock on a monthly basis (last close price/last close price previous period - 1)\n",
    "\n",
    "        - pride_df: pd.DataFrame\n",
    "        - interval: str (default='M')\n",
    "    \"\"\"\n",
    "    assert interval in ['M', 'Q', 'Y'], 'interval must be M, Q or Y'\n",
    "\n",
    "    # find the last close price of each period\n",
    "    last_close_price = price_df.resample(interval).last()\n",
    "\n",
    "    # calculate the return\n",
    "    return_series = last_close_price['Close'].pct_change()*100\n",
    "\n",
    "    # turn into a dataframe\n",
    "    return_series = return_series.to_frame()\n",
    "\n",
    "    return_series.columns = [f'{interval}_Return (%)']\n",
    "    # set index to month\n",
    "    return_series.index = return_series.index.strftime('%Y-%m')\n",
    "\n",
    "    return return_series"
   ]
  },
  {
   "cell_type": "code",
   "execution_count": 6,
   "metadata": {},
   "outputs": [],
   "source": [
    "def get_stats(monthly_returns_df_dict: str, ticker: str, start_period: str, end_year: str):\n",
    "\n",
    "    period_of_interest_return_df = monthly_returns_df_dict[ticker].loc[start_period:end_year]\n",
    "\n",
    "    stats_dict = {}\n",
    "\n",
    "    # mean, std, n\n",
    "    stats_dict['mean (%)'] = np.round(\n",
    "        period_of_interest_return_df.mean().values[0], 2)\n",
    "    stats_dict['std (%)'] = np.round(\n",
    "        period_of_interest_return_df.std().values[0], 2)\n",
    "    stats_dict['n'] = period_of_interest_return_df.shape[0]\n",
    "\n",
    "    # sharpe\n",
    "    mode = monthly_returns_df_dict[ticker].columns[0].split('_')[0]\n",
    "    sharpe_multiplier = 4 if mode == 'Q' else 12 if mode == 'M' else 1\n",
    "    stats_dict['sharpe'] = np.round(np.sqrt(\n",
    "        sharpe_multiplier) * stats_dict['mean (%)'] / stats_dict['std (%)'], 2)\n",
    "    \n",
    "    # earliest and latest date for ticker\n",
    "    regression_start_period = monthly_returns_df_dict[ticker].index[1]\n",
    "    regression_end_period = monthly_returns_df_dict[ticker].index[-1]\n",
    "\n",
    "    # beta over this period\n",
    "    X = monthly_returns_df_dict['^AORD'].loc[regression_start_period:regression_end_period][f'{mode}_Return (%)']\n",
    "    X = sm.add_constant(X)\n",
    "    y = monthly_returns_df_dict[ticker].loc[regression_start_period:regression_end_period][f'{mode}_Return (%)']\n",
    "\n",
    "    linreg = sm.OLS(y, X).fit()\n",
    "    stats_dict['CAPM beta'] = np.round(linreg.params[f'{mode}_Return (%)'], 2)\n",
    "    stats_dict['CAPM alpha'] = np.round(linreg.params['const'], 2)\n",
    "    \n",
    "\n",
    "    return stats_dict"
   ]
  },
  {
   "cell_type": "code",
   "execution_count": 7,
   "metadata": {},
   "outputs": [],
   "source": [
    "def historical_corr(monthly_returns_df_dict: dict, start_period: str, end_year: str):\n",
    "    \"\"\"\n",
    "    Get the historical correlation between two stocks.\n",
    "\n",
    "    Parameters:\n",
    "        - historical_returns: dict\n",
    "        - start_period: str\n",
    "        - end_year: str\n",
    "    \"\"\"\n",
    "\n",
    "    period_of_interest_return_df = pd.DataFrame()\n",
    "\n",
    "    for ticker, returns_df in monthly_returns_df_dict.items():\n",
    "        returns_df = returns_df.loc[start_period:end_year]\n",
    "        returns_df.rename(\n",
    "            columns={returns_df.columns[0]: ticker}, inplace=True)\n",
    "\n",
    "        period_of_interest_return_df = pd.merge(\n",
    "            period_of_interest_return_df, returns_df, left_index=True, right_index=True, how='outer')\n",
    "\n",
    "    # calculate correlation: corr() function from pandas\n",
    "    correlation_df = period_of_interest_return_df.corr()  # TODO\n",
    "\n",
    "    return correlation_df, period_of_interest_return_df"
   ]
  },
  {
   "cell_type": "code",
   "execution_count": 8,
   "metadata": {},
   "outputs": [],
   "source": [
    "def plot_returns(monthly_returns_df_dict: dict, quarterly_returns_df_dict: dict, yearly_returns_df_dict: dict, TICKER: str, first_end_of_quarter: str, last_end_of_quarter: str, **kwargs):\n",
    "\n",
    "    # Create a figure and 3 subplots\n",
    "    fig, axs = plt.subplots(3, 1, figsize=(8, 8))\n",
    "\n",
    "    interested_monthly_returns_df = monthly_returns_df_dict[TICKER][monthly_returns_df_dict[TICKER].index > first_end_of_quarter]\n",
    "    interested_quarterly_returns_df = quarterly_returns_df_dict[TICKER][quarterly_returns_df_dict[TICKER].index > first_end_of_quarter]\n",
    "    interested_yearly_returns_df = yearly_returns_df_dict[TICKER][yearly_returns_df_dict[TICKER].index > first_end_of_quarter]\n",
    "\n",
    "    # Plot monthly returns as a bar chart\n",
    "    axs[0].bar(interested_monthly_returns_df.index, interested_monthly_returns_df.values.flatten(), label='Monthly Returns (%)', color='red')\n",
    "    axs[0].axhline(y=0, color='gray', lw=1, linestyle=':', linewidth=0.5)\n",
    "    axs[0].set_title('Monthly Returns (%)')\n",
    "    axs[0].set_ylabel('Returns (%)')\n",
    "    axs[0].set_xticks(np.arange(0, len(interested_monthly_returns_df), 3))\n",
    "    axs[0].tick_params(axis='x', rotation=90)\n",
    "\n",
    "    # Plot quarterly returns as a bar chart\n",
    "    axs[1].bar(interested_quarterly_returns_df.index, interested_quarterly_returns_df.values.flatten(), label='Quarterly Returns (%)', color='orange')\n",
    "    axs[1].axhline(y=0, color='gray', lw=1, linestyle=':', linewidth=0.5)\n",
    "    axs[1].set_title('Quarterly Returns (%)')\n",
    "    axs[1].set_ylabel('Returns (%)')\n",
    "    axs[1].tick_params(axis='x', rotation=90)  # Rotate x-axis tick labels\n",
    "\n",
    "    # Add text above the bars for quarterly returns\n",
    "    for i, value in enumerate(interested_quarterly_returns_df.values.flatten()):\n",
    "        axs[1].text(i, value, f'{value:.1f}%', ha='center', va='bottom', fontsize=8, rotation=45)\n",
    "\n",
    "\n",
    "    # Plot yearly returns as a bar chart\n",
    "    axs[2].bar(interested_yearly_returns_df.index, interested_yearly_returns_df.values.flatten(), label='Yearly Returns (%)', color='yellow')\n",
    "    axs[2].axhline(y=0, color='gray', lw=1, linestyle=':', linewidth=0.5)\n",
    "    axs[2].set_title('Yearly Returns (%)')\n",
    "    axs[2].set_ylabel('Returns (%)')\n",
    "    axs[2].tick_params(axis='x', rotation=90)  # Rotate x-axis tick labels\n",
    "\n",
    "    # Add text above the bars for quarterly returns\n",
    "    for i, value in enumerate(interested_yearly_returns_df.values.flatten()):\n",
    "        axs[2].text(i, value, f'{value:.1f}%', ha='center', va='bottom', fontsize=8, rotation=45)\n",
    "\n",
    "\n",
    "    # Set x-label only on the last subplot\n",
    "    axs[2].set_xlabel('Date')\n",
    "\n",
    "    fig.suptitle(f'{TICKER} Returns from {first_end_of_quarter} to {last_end_of_quarter}', fontsize=16)\n",
    "\n",
    "    # Rotate x-axis labels 90 degrees on the last subplot\n",
    "    plt.setp(axs[2].xaxis.get_majorticklabels(), rotation=90)\n",
    "\n",
    "    # Tight layout for better spacing between plots\n",
    "    plt.tight_layout()\n",
    "\n",
    "    # Show the plot\n",
    "    plt.show()"
   ]
  },
  {
   "cell_type": "code",
   "execution_count": 9,
   "metadata": {},
   "outputs": [],
   "source": [
    "def plot_correlation(correlation_df: pd.DataFrame):\n",
    "    \"\"\"\n",
    "    Plot the correlation matrix.\n",
    "\n",
    "    Parameters:\n",
    "        - correlation_df: pd.DataFrame\n",
    "    \"\"\"\n",
    "    plt.figure(figsize=(10, 8))\n",
    "    # Set vmin and vmax to -1 and 1, respectively, and use the custom colormap\n",
    "    plt.matshow(correlation_df, fignum=1, vmin=-1, vmax=1, cmap = \"RdBu\")\n",
    "    plt.xticks(range(len(correlation_df.columns)), correlation_df.columns, rotation=45)\n",
    "    plt.yticks(range(len(correlation_df.columns)), correlation_df.columns)\n",
    "    # Colour bar with the custom colormap\n",
    "    plt.colorbar()\n",
    "    plt.title(f'{TICKER} Monthly Return Correlation Matrix')\n",
    "    plt.show()"
   ]
  },
  {
   "cell_type": "markdown",
   "metadata": {},
   "source": [
    "Run data"
   ]
  },
  {
   "cell_type": "code",
   "execution_count": 161,
   "metadata": {},
   "outputs": [],
   "source": [
    "TICKER = 'IEL'\n",
    "first_end_of_quarter = '2020-06'\n",
    "last_end_of_quarter = '2024-06'"
   ]
  },
  {
   "cell_type": "code",
   "execution_count": 162,
   "metadata": {},
   "outputs": [],
   "source": [
    "asx_companies_directory = pd.read_csv('../data/asx_companies_directory.csv')\n",
    "gics = pd.read_csv('../data/asx_gics.csv')\n",
    "\n",
    "gics['Industry'] = gics['Industry'].apply(lambda x: ''.join(str(x).split('-')).replace(' ', '').replace('—', ''))\n",
    "\n",
    "asx_companies_directory['Market Cap'] = asx_companies_directory['Market Cap'].apply(lambda x: float(x) if x.isnumeric() else float(x.lower()) if 'E+' in x else np.nan)"
   ]
  },
  {
   "cell_type": "code",
   "execution_count": 163,
   "metadata": {},
   "outputs": [],
   "source": [
    "top_500 = asx_companies_directory.sort_values('Market Cap', ascending=False).head(500)['ASX code'].values + '.AX'"
   ]
  },
  {
   "cell_type": "code",
   "execution_count": 164,
   "metadata": {},
   "outputs": [],
   "source": [
    "above_1b = asx_companies_directory[asx_companies_directory['Market Cap'] >= 1000000000]['ASX code'].values + '.AX'"
   ]
  },
  {
   "cell_type": "code",
   "execution_count": 165,
   "metadata": {},
   "outputs": [],
   "source": [
    "# find same industry stocks\n",
    "ticker_gics_sector = gics[gics['Ticker'] == f'{TICKER}.AX']['Sector'].values[0] \n",
    "ticker_gics_industry = gics[gics['Ticker'] == f'{TICKER}.AX']['Industry'].values[0]\n",
    "\n",
    "same_sector_tickers = gics[(gics['Sector'] == ticker_gics_sector) & (gics['Ticker'].isin(above_1b))]['Ticker'].values\n",
    "same_industry_tickers = gics[(gics['Industry'] == ticker_gics_industry)& (gics['Ticker'].isin(above_1b))]['Ticker'].values"
   ]
  },
  {
   "cell_type": "code",
   "execution_count": 166,
   "metadata": {},
   "outputs": [
    {
     "data": {
      "text/plain": [
       "'Consumer Defensive'"
      ]
     },
     "execution_count": 166,
     "metadata": {},
     "output_type": "execute_result"
    }
   ],
   "source": [
    "ticker_gics_sector"
   ]
  },
  {
   "cell_type": "code",
   "execution_count": 167,
   "metadata": {},
   "outputs": [
    {
     "data": {
      "text/plain": [
       "'Education&TrainingServices'"
      ]
     },
     "execution_count": 167,
     "metadata": {},
     "output_type": "execute_result"
    }
   ],
   "source": [
    "ticker_gics_industry"
   ]
  },
  {
   "cell_type": "code",
   "execution_count": 168,
   "metadata": {},
   "outputs": [],
   "source": [
    "# get market caps and weight\n",
    "same_industry_tickers_mcap = asx_companies_directory[((asx_companies_directory['ASX code']+'.AX').isin(same_industry_tickers)) & (asx_companies_directory['ASX code'] != TICKER)][['ASX code', 'Market Cap']]\n",
    "# check for is integer\n",
    "marketsame_industry_tickers_mcap_cap = same_industry_tickers_mcap[same_industry_tickers_mcap['Market Cap'].apply(lambda x: isinstance(x, float))]"
   ]
  },
  {
   "cell_type": "code",
   "execution_count": 169,
   "metadata": {},
   "outputs": [],
   "source": [
    "same_industry_tickers_mcap['weight'] = same_industry_tickers_mcap['Market Cap']/same_industry_tickers_mcap['Market Cap'].sum()"
   ]
  },
  {
   "cell_type": "code",
   "execution_count": 170,
   "metadata": {},
   "outputs": [
    {
     "data": {
      "text/html": [
       "<div>\n",
       "<style scoped>\n",
       "    .dataframe tbody tr th:only-of-type {\n",
       "        vertical-align: middle;\n",
       "    }\n",
       "\n",
       "    .dataframe tbody tr th {\n",
       "        vertical-align: top;\n",
       "    }\n",
       "\n",
       "    .dataframe thead th {\n",
       "        text-align: right;\n",
       "    }\n",
       "</style>\n",
       "<table border=\"1\" class=\"dataframe\">\n",
       "  <thead>\n",
       "    <tr style=\"text-align: right;\">\n",
       "      <th></th>\n",
       "      <th>ASX code</th>\n",
       "      <th>Market Cap</th>\n",
       "      <th>weight</th>\n",
       "    </tr>\n",
       "  </thead>\n",
       "  <tbody>\n",
       "    <tr>\n",
       "      <th>771</th>\n",
       "      <td>GEM</td>\n",
       "      <td>1.141404e+09</td>\n",
       "      <td>1.0</td>\n",
       "    </tr>\n",
       "  </tbody>\n",
       "</table>\n",
       "</div>"
      ],
      "text/plain": [
       "    ASX code    Market Cap  weight\n",
       "771      GEM  1.141404e+09     1.0"
      ]
     },
     "metadata": {},
     "output_type": "display_data"
    },
    {
     "data": {
      "text/html": [
       "<div>\n",
       "<style scoped>\n",
       "    .dataframe tbody tr th:only-of-type {\n",
       "        vertical-align: middle;\n",
       "    }\n",
       "\n",
       "    .dataframe tbody tr th {\n",
       "        vertical-align: top;\n",
       "    }\n",
       "\n",
       "    .dataframe thead th {\n",
       "        text-align: right;\n",
       "    }\n",
       "</style>\n",
       "<table border=\"1\" class=\"dataframe\">\n",
       "  <thead>\n",
       "    <tr style=\"text-align: right;\">\n",
       "      <th></th>\n",
       "      <th>ASX code</th>\n",
       "      <th>Market Cap</th>\n",
       "    </tr>\n",
       "  </thead>\n",
       "  <tbody>\n",
       "    <tr>\n",
       "      <th>905</th>\n",
       "      <td>IEL</td>\n",
       "      <td>4.236277e+09</td>\n",
       "    </tr>\n",
       "  </tbody>\n",
       "</table>\n",
       "</div>"
      ],
      "text/plain": [
       "    ASX code    Market Cap\n",
       "905      IEL  4.236277e+09"
      ]
     },
     "metadata": {},
     "output_type": "display_data"
    },
    {
     "name": "stdout",
     "output_type": "stream",
     "text": [
      "3.7114627544002183\n"
     ]
    }
   ],
   "source": [
    "same_industry_tickers_mcap = same_industry_tickers_mcap.sort_values(by='Market Cap', ascending=False)\n",
    "display(same_industry_tickers_mcap) \n",
    "\n",
    "ticker_mv = asx_companies_directory[asx_companies_directory['ASX code'] == TICKER][['ASX code', 'Market Cap']]\n",
    "display(ticker_mv)\n",
    "\n",
    "print(ticker_mv['Market Cap'].values[0]/same_industry_tickers_mcap['Market Cap'].sum())"
   ]
  },
  {
   "cell_type": "code",
   "execution_count": 171,
   "metadata": {},
   "outputs": [
    {
     "name": "stdout",
     "output_type": "stream",
     "text": [
      "IEL\n",
      "GEM\n",
      "^AXJO\n",
      "^AXKO\n",
      "^AXSO\n",
      "^AORD\n"
     ]
    }
   ],
   "source": [
    "my_portfolio_tickers = [TICKER]\n",
    "my_portfolio_tickers.extend([ticker.split('.')[0] for ticker in same_industry_tickers if ticker.split('.')[0] != TICKER ])\n",
    "\n",
    "\n",
    "my_portfolio_tickers.extend(index_tickers)\n",
    "\n",
    "historical_prices = {}\n",
    "\n",
    "for ticker in my_portfolio_tickers:\n",
    "    print(ticker)\n",
    "    historical_prices[ticker] = get_prices(f'{ticker}.AX' if ticker not in index_tickers else ticker, '2019-06-01')"
   ]
  },
  {
   "cell_type": "code",
   "execution_count": 172,
   "metadata": {},
   "outputs": [],
   "source": [
    "monthly_returns_df_dict = {}\n",
    "for ticker, price_df in historical_prices.items():\n",
    "    monthly_returns_df_dict[ticker] = get_return(price_df, 'M')\n",
    "\n",
    "quarterly_returns_df_dict = {}\n",
    "for ticker, price_df in historical_prices.items():\n",
    "    quarterly_returns_df_dict[ticker] = get_return(price_df, 'Q')\n",
    "\n",
    "yearly_returns_df_dict = {}\n",
    "for ticker, price_df in historical_prices.items():\n",
    "    yearly_returns_df_dict[ticker] = get_return(price_df, 'Y')"
   ]
  },
  {
   "cell_type": "code",
   "execution_count": 173,
   "metadata": {},
   "outputs": [
    {
     "data": {
      "text/html": [
       "<div>\n",
       "<style scoped>\n",
       "    .dataframe tbody tr th:only-of-type {\n",
       "        vertical-align: middle;\n",
       "    }\n",
       "\n",
       "    .dataframe tbody tr th {\n",
       "        vertical-align: top;\n",
       "    }\n",
       "\n",
       "    .dataframe thead th {\n",
       "        text-align: right;\n",
       "    }\n",
       "</style>\n",
       "<table border=\"1\" class=\"dataframe\">\n",
       "  <thead>\n",
       "    <tr style=\"text-align: right;\">\n",
       "      <th></th>\n",
       "      <th>mean (%)</th>\n",
       "      <th>std (%)</th>\n",
       "      <th>n</th>\n",
       "      <th>sharpe</th>\n",
       "      <th>CAPM beta</th>\n",
       "      <th>CAPM alpha</th>\n",
       "    </tr>\n",
       "  </thead>\n",
       "  <tbody>\n",
       "    <tr>\n",
       "      <th>IEL</th>\n",
       "      <td>0.66</td>\n",
       "      <td>13.42</td>\n",
       "      <td>49.0</td>\n",
       "      <td>0.17</td>\n",
       "      <td>1.57</td>\n",
       "      <td>0.09</td>\n",
       "    </tr>\n",
       "    <tr>\n",
       "      <th>GEM</th>\n",
       "      <td>0.82</td>\n",
       "      <td>8.95</td>\n",
       "      <td>49.0</td>\n",
       "      <td>0.32</td>\n",
       "      <td>1.34</td>\n",
       "      <td>-0.78</td>\n",
       "    </tr>\n",
       "    <tr>\n",
       "      <th>^AXJO</th>\n",
       "      <td>0.69</td>\n",
       "      <td>3.84</td>\n",
       "      <td>49.0</td>\n",
       "      <td>0.62</td>\n",
       "      <td>0.98</td>\n",
       "      <td>-0.03</td>\n",
       "    </tr>\n",
       "    <tr>\n",
       "      <th>^AXKO</th>\n",
       "      <td>0.68</td>\n",
       "      <td>3.87</td>\n",
       "      <td>49.0</td>\n",
       "      <td>0.61</td>\n",
       "      <td>0.98</td>\n",
       "      <td>-0.03</td>\n",
       "    </tr>\n",
       "    <tr>\n",
       "      <th>^AXSO</th>\n",
       "      <td>0.35</td>\n",
       "      <td>5.03</td>\n",
       "      <td>49.0</td>\n",
       "      <td>0.24</td>\n",
       "      <td>1.18</td>\n",
       "      <td>-0.25</td>\n",
       "    </tr>\n",
       "    <tr>\n",
       "      <th>^AORD</th>\n",
       "      <td>0.71</td>\n",
       "      <td>3.92</td>\n",
       "      <td>49.0</td>\n",
       "      <td>0.63</td>\n",
       "      <td>1.00</td>\n",
       "      <td>-0.00</td>\n",
       "    </tr>\n",
       "  </tbody>\n",
       "</table>\n",
       "</div>"
      ],
      "text/plain": [
       "       mean (%)  std (%)     n  sharpe  CAPM beta  CAPM alpha\n",
       "IEL        0.66    13.42  49.0    0.17       1.57        0.09\n",
       "GEM        0.82     8.95  49.0    0.32       1.34       -0.78\n",
       "^AXJO      0.69     3.84  49.0    0.62       0.98       -0.03\n",
       "^AXKO      0.68     3.87  49.0    0.61       0.98       -0.03\n",
       "^AXSO      0.35     5.03  49.0    0.24       1.18       -0.25\n",
       "^AORD      0.71     3.92  49.0    0.63       1.00       -0.00"
      ]
     },
     "execution_count": 173,
     "metadata": {},
     "output_type": "execute_result"
    }
   ],
   "source": [
    "stats_dict = {}\n",
    "\n",
    "for ticker in my_portfolio_tickers:\n",
    "    stats_dict[ticker] = get_stats(\n",
    "        monthly_returns_df_dict, ticker, first_end_of_quarter, last_end_of_quarter)\n",
    "    \n",
    "stats_df = pd.DataFrame(stats_dict).T\n",
    "stats_df"
   ]
  },
  {
   "cell_type": "code",
   "execution_count": 174,
   "metadata": {},
   "outputs": [],
   "source": [
    "correlation_df, period_of_interest_return_df = historical_corr(\n",
    "    monthly_returns_df_dict, first_end_of_quarter, last_end_of_quarter)\n",
    "# correlation_df.round(2)"
   ]
  },
  {
   "cell_type": "code",
   "execution_count": 175,
   "metadata": {},
   "outputs": [
    {
     "data": {
      "image/png": "[encoded data removed]",
      "text/plain": [
       "<Figure size 1000x800 with 2 Axes>"
      ]
     },
     "metadata": {},
     "output_type": "display_data"
    }
   ],
   "source": [
    "plot_correlation(correlation_df)"
   ]
  },
  {
   "cell_type": "code",
   "execution_count": null,
   "metadata": {},
   "outputs": [
    {
     "data": {
      "image/png": "[encoded data removed]",
      "text/plain": [
       "<Figure size 800x800 with 3 Axes>"
      ]
     },
     "metadata": {},
     "output_type": "display_data"
    }
   ],
   "source": [
    "plot_returns(**{'monthly_returns_df_dict': monthly_returns_df_dict, \n",
    "              'quarterly_returns_df_dict': quarterly_returns_df_dict, \n",
    "              'yearly_returns_df_dict': yearly_returns_df_dict, 'TICKER': TICKER, \n",
    "              'first_end_of_quarter': first_end_of_quarter, \n",
    "              'last_end_of_quarter': last_end_of_quarter})"
   ]
  },
  {
   "cell_type": "code",
   "execution_count": null,
   "metadata": {},
   "outputs": [
    {
     "data": {
      "image/png": "[encoded data removed]",
      "text/plain": [
       "<Figure size 640x480 with 1 Axes>"
      ]
     },
     "metadata": {},
     "output_type": "display_data"
    }
   ],
   "source": [
    "# TODO: recent plot - different intervals\n",
    "\n",
    "plt.title(f'{TICKER} Close Price')\n",
    "plt.plot(historical_prices[TICKER]['Close'])\n",
    "# plot some horizontal lines at each dollar (dotted faint line)\n",
    "for i in range(int(np.ceil(historical_prices[TICKER]['Close'].min())-1), int(np.floor(historical_prices[TICKER]['Close'].max()))+1):\n",
    "    plt.axhline(y=i, color='gray', linestyle=':', linewidth=0.5)\n",
    "plt.show()"
   ]
  },
  {
   "cell_type": "code",
   "execution_count": null,
   "metadata": {},
   "outputs": [
    {
     "data": {
      "text/html": [
       "<div>\n",
       "<style scoped>\n",
       "    .dataframe tbody tr th:only-of-type {\n",
       "        vertical-align: middle;\n",
       "    }\n",
       "\n",
       "    .dataframe tbody tr th {\n",
       "        vertical-align: top;\n",
       "    }\n",
       "\n",
       "    .dataframe thead th {\n",
       "        text-align: right;\n",
       "    }\n",
       "</style>\n",
       "<table border=\"1\" class=\"dataframe\">\n",
       "  <thead>\n",
       "    <tr style=\"text-align: right;\">\n",
       "      <th></th>\n",
       "      <th>Dividends</th>\n",
       "    </tr>\n",
       "    <tr>\n",
       "      <th>Date</th>\n",
       "      <th></th>\n",
       "    </tr>\n",
       "  </thead>\n",
       "  <tbody>\n",
       "    <tr>\n",
       "      <th>2019-09-03 00:00:00+10:00</th>\n",
       "      <td>0.57</td>\n",
       "    </tr>\n",
       "    <tr>\n",
       "      <th>2020-03-04 00:00:00+11:00</th>\n",
       "      <td>0.46</td>\n",
       "    </tr>\n",
       "    <tr>\n",
       "      <th>2020-09-01 00:00:00+10:00</th>\n",
       "      <td>0.48</td>\n",
       "    </tr>\n",
       "    <tr>\n",
       "      <th>2021-03-04 00:00:00+11:00</th>\n",
       "      <td>0.53</td>\n",
       "    </tr>\n",
       "    <tr>\n",
       "      <th>2021-09-02 00:00:00+10:00</th>\n",
       "      <td>0.55</td>\n",
       "    </tr>\n",
       "    <tr>\n",
       "      <th>2022-03-03 00:00:00+11:00</th>\n",
       "      <td>0.39</td>\n",
       "    </tr>\n",
       "    <tr>\n",
       "      <th>2022-08-31 00:00:00+10:00</th>\n",
       "      <td>0.53</td>\n",
       "    </tr>\n",
       "    <tr>\n",
       "      <th>2023-03-02 00:00:00+11:00</th>\n",
       "      <td>0.46</td>\n",
       "    </tr>\n",
       "    <tr>\n",
       "      <th>2023-08-31 00:00:00+10:00</th>\n",
       "      <td>0.58</td>\n",
       "    </tr>\n",
       "    <tr>\n",
       "      <th>2024-02-28 00:00:00+11:00</th>\n",
       "      <td>0.47</td>\n",
       "    </tr>\n",
       "    <tr>\n",
       "      <th>2024-09-03 00:00:00+10:00</th>\n",
       "      <td>0.57</td>\n",
       "    </tr>\n",
       "  </tbody>\n",
       "</table>\n",
       "</div>"
      ],
      "text/plain": [
       "                           Dividends\n",
       "Date                                \n",
       "2019-09-03 00:00:00+10:00       0.57\n",
       "2020-03-04 00:00:00+11:00       0.46\n",
       "2020-09-01 00:00:00+10:00       0.48\n",
       "2021-03-04 00:00:00+11:00       0.53\n",
       "2021-09-02 00:00:00+10:00       0.55\n",
       "2022-03-03 00:00:00+11:00       0.39\n",
       "2022-08-31 00:00:00+10:00       0.53\n",
       "2023-03-02 00:00:00+11:00       0.46\n",
       "2023-08-31 00:00:00+10:00       0.58\n",
       "2024-02-28 00:00:00+11:00       0.47\n",
       "2024-09-03 00:00:00+10:00       0.57"
      ]
     },
     "metadata": {},
     "output_type": "display_data"
    }
   ],
   "source": [
    "# dividends\n",
    "display(historical_prices[TICKER][historical_prices[TICKER]\n",
    "                                  ['Dividends'] > 0][['Dividends']])"
   ]
  },
  {
   "cell_type": "code",
   "execution_count": null,
   "metadata": {},
   "outputs": [
    {
     "data": {
      "text/html": [
       "<div>\n",
       "<style scoped>\n",
       "    .dataframe tbody tr th:only-of-type {\n",
       "        vertical-align: middle;\n",
       "    }\n",
       "\n",
       "    .dataframe tbody tr th {\n",
       "        vertical-align: top;\n",
       "    }\n",
       "\n",
       "    .dataframe thead th {\n",
       "        text-align: right;\n",
       "    }\n",
       "</style>\n",
       "<table border=\"1\" class=\"dataframe\">\n",
       "  <thead>\n",
       "    <tr style=\"text-align: right;\">\n",
       "      <th></th>\n",
       "      <th>Stock Splits</th>\n",
       "    </tr>\n",
       "    <tr>\n",
       "      <th>Date</th>\n",
       "      <th></th>\n",
       "    </tr>\n",
       "  </thead>\n",
       "  <tbody>\n",
       "  </tbody>\n",
       "</table>\n",
       "</div>"
      ],
      "text/plain": [
       "Empty DataFrame\n",
       "Columns: [Stock Splits]\n",
       "Index: []"
      ]
     },
     "metadata": {},
     "output_type": "display_data"
    }
   ],
   "source": [
    "# stock splits\n",
    "display(historical_prices[TICKER][historical_prices[TICKER]['Stock Splits'] > 0][['Stock Splits']])"
   ]
  },
  {
   "cell_type": "code",
   "execution_count": null,
   "metadata": {},
   "outputs": [
    {
     "ename": "AssertionError",
     "evalue": "",
     "output_type": "error",
     "traceback": [
      "\u001b[0;31m---------------------------------------------------------------------------\u001b[0m",
      "\u001b[0;31mAssertionError\u001b[0m                            Traceback (most recent call last)",
      "Cell \u001b[0;32mIn[21], line 1\u001b[0m\n\u001b[0;32m----> 1\u001b[0m \u001b[38;5;28;01massert\u001b[39;00m \u001b[38;5;28;01mFalse\u001b[39;00m\n",
      "\u001b[0;31mAssertionError\u001b[0m: "
     ]
    }
   ],
   "source": [
    "assert False"
   ]
  },
  {
   "cell_type": "markdown",
   "metadata": {},
   "source": [
    "# Other Stats"
   ]
  },
  {
   "cell_type": "code",
   "execution_count": null,
   "metadata": {},
   "outputs": [],
   "source": [
    "TICKER = 'NVX'"
   ]
  },
  {
   "cell_type": "code",
   "execution_count": null,
   "metadata": {},
   "outputs": [],
   "source": [
    "object = yf.Ticker(f'{TICKER}.AX')"
   ]
  },
  {
   "cell_type": "code",
   "execution_count": null,
   "metadata": {},
   "outputs": [],
   "source": [
    "balance_sheet_row = [\n",
    "    'Total Debt', # total debt\n",
    "    'Stockholders Equity', # total equity & book value\n",
    "    'Share Issued', # n shares \n",
    "]\n",
    "balance_sheet = object.balance_sheet.loc[balance_sheet_row]"
   ]
  },
  {
   "cell_type": "code",
   "execution_count": null,
   "metadata": {},
   "outputs": [],
   "source": [
    "cashflow_row = [\n",
    "       'Free Cash Flow', # cashflow\n",
    "       'End Cash Position' # cash\n",
    "       ]\n",
    "\n",
    "cashflows = object.cashflow.loc[cashflow_row]"
   ]
  },
  {
   "cell_type": "code",
   "execution_count": null,
   "metadata": {},
   "outputs": [],
   "source": [
    "financial_row = [\n",
    "       'EBIT',\n",
    "       'Gross Profit',  # profit\n",
    "       'Total Revenue' # revenue\n",
    "       ]\n",
    "\n",
    "financials = object.financials.loc[financial_row]"
   ]
  },
  {
   "cell_type": "code",
   "execution_count": null,
   "metadata": {},
   "outputs": [],
   "source": [
    "stock_fundementals = pd.concat([balance_sheet, cashflows, financials]).T\n",
    "# sort the rows by index\n",
    "stock_fundementals = stock_fundementals.sort_index()"
   ]
  },
  {
   "cell_type": "code",
   "execution_count": null,
   "metadata": {},
   "outputs": [],
   "source": [
    "stock_fundementals['EPS'] = stock_fundementals['EBIT'] / stock_fundementals['Share Issued']\n",
    "stock_fundementals['D/E'] = stock_fundementals['Total Debt'] / stock_fundementals['Stockholders Equity']\n",
    "stock_fundementals['Book Value Per Share'] = stock_fundementals['Stockholders Equity'] / stock_fundementals['Share Issued']"
   ]
  },
  {
   "cell_type": "code",
   "execution_count": null,
   "metadata": {},
   "outputs": [],
   "source": [
    "# if whole row is NaN, drop it\n",
    "stock_fundementals = stock_fundementals.dropna(how='all')"
   ]
  },
  {
   "cell_type": "code",
   "execution_count": null,
   "metadata": {},
   "outputs": [
    {
     "data": {
      "text/html": [
       "<div>\n",
       "<style scoped>\n",
       "    .dataframe tbody tr th:only-of-type {\n",
       "        vertical-align: middle;\n",
       "    }\n",
       "\n",
       "    .dataframe tbody tr th {\n",
       "        vertical-align: top;\n",
       "    }\n",
       "\n",
       "    .dataframe thead th {\n",
       "        text-align: right;\n",
       "    }\n",
       "</style>\n",
       "<table border=\"1\" class=\"dataframe\">\n",
       "  <thead>\n",
       "    <tr style=\"text-align: right;\">\n",
       "      <th></th>\n",
       "      <th>Total Debt</th>\n",
       "      <th>Stockholders Equity</th>\n",
       "      <th>Share Issued</th>\n",
       "      <th>Free Cash Flow</th>\n",
       "      <th>End Cash Position</th>\n",
       "      <th>EBIT</th>\n",
       "      <th>Gross Profit</th>\n",
       "      <th>Total Revenue</th>\n",
       "      <th>EPS</th>\n",
       "      <th>D/E</th>\n",
       "      <th>Book Value Per Share</th>\n",
       "    </tr>\n",
       "  </thead>\n",
       "  <tbody>\n",
       "    <tr>\n",
       "      <th>2020-06-30</th>\n",
       "      <td>NaN</td>\n",
       "      <td>NaN</td>\n",
       "      <td>NaN</td>\n",
       "      <td>-7426208.0</td>\n",
       "      <td>26690276.0</td>\n",
       "      <td>-11072623.0</td>\n",
       "      <td>2016403.0</td>\n",
       "      <td>2851035.0</td>\n",
       "      <td>NaN</td>\n",
       "      <td>NaN</td>\n",
       "      <td>NaN</td>\n",
       "    </tr>\n",
       "    <tr>\n",
       "      <th>2021-06-30</th>\n",
       "      <td>10356322.0</td>\n",
       "      <td>138449834.0</td>\n",
       "      <td>404601384.0</td>\n",
       "      <td>-25664712.0</td>\n",
       "      <td>102601252.0</td>\n",
       "      <td>-13305925.0</td>\n",
       "      <td>3083075.0</td>\n",
       "      <td>3893739.0</td>\n",
       "      <td>-0.032887</td>\n",
       "      <td>0.074802</td>\n",
       "      <td>0.342188</td>\n",
       "    </tr>\n",
       "    <tr>\n",
       "      <th>2022-06-30</th>\n",
       "      <td>42309006.0</td>\n",
       "      <td>251133478.0</td>\n",
       "      <td>485951369.0</td>\n",
       "      <td>-113019442.0</td>\n",
       "      <td>142737362.0</td>\n",
       "      <td>-50391738.0</td>\n",
       "      <td>4376530.0</td>\n",
       "      <td>6101155.0</td>\n",
       "      <td>-0.103697</td>\n",
       "      <td>0.168472</td>\n",
       "      <td>0.516787</td>\n",
       "    </tr>\n",
       "    <tr>\n",
       "      <th>2022-12-31</th>\n",
       "      <td>41341840.0</td>\n",
       "      <td>226056269.0</td>\n",
       "      <td>486774622.0</td>\n",
       "      <td>NaN</td>\n",
       "      <td>NaN</td>\n",
       "      <td>NaN</td>\n",
       "      <td>NaN</td>\n",
       "      <td>NaN</td>\n",
       "      <td>NaN</td>\n",
       "      <td>0.182883</td>\n",
       "      <td>0.464396</td>\n",
       "    </tr>\n",
       "    <tr>\n",
       "      <th>2023-12-31</th>\n",
       "      <td>69387750.0</td>\n",
       "      <td>183936275.0</td>\n",
       "      <td>488733461.0</td>\n",
       "      <td>-55424219.0</td>\n",
       "      <td>78713885.0</td>\n",
       "      <td>-43602661.0</td>\n",
       "      <td>5237259.0</td>\n",
       "      <td>8054528.0</td>\n",
       "      <td>-0.089216</td>\n",
       "      <td>0.377238</td>\n",
       "      <td>0.376353</td>\n",
       "    </tr>\n",
       "  </tbody>\n",
       "</table>\n",
       "</div>"
      ],
      "text/plain": [
       "            Total Debt Stockholders Equity Share Issued Free Cash Flow  \\\n",
       "2020-06-30         NaN                 NaN          NaN     -7426208.0   \n",
       "2021-06-30  10356322.0         138449834.0  404601384.0    -25664712.0   \n",
       "2022-06-30  42309006.0         251133478.0  485951369.0   -113019442.0   \n",
       "2022-12-31  41341840.0         226056269.0  486774622.0            NaN   \n",
       "2023-12-31  69387750.0         183936275.0  488733461.0    -55424219.0   \n",
       "\n",
       "           End Cash Position        EBIT Gross Profit Total Revenue       EPS  \\\n",
       "2020-06-30        26690276.0 -11072623.0    2016403.0     2851035.0       NaN   \n",
       "2021-06-30       102601252.0 -13305925.0    3083075.0     3893739.0 -0.032887   \n",
       "2022-06-30       142737362.0 -50391738.0    4376530.0     6101155.0 -0.103697   \n",
       "2022-12-31               NaN         NaN          NaN           NaN       NaN   \n",
       "2023-12-31        78713885.0 -43602661.0    5237259.0     8054528.0 -0.089216   \n",
       "\n",
       "                 D/E Book Value Per Share  \n",
       "2020-06-30       NaN                  NaN  \n",
       "2021-06-30  0.074802             0.342188  \n",
       "2022-06-30  0.168472             0.516787  \n",
       "2022-12-31  0.182883             0.464396  \n",
       "2023-12-31  0.377238             0.376353  "
      ]
     },
     "execution_count": 188,
     "metadata": {},
     "output_type": "execute_result"
    }
   ],
   "source": [
    "stock_fundementals"
   ]
  },
  {
   "cell_type": "code",
   "execution_count": null,
   "metadata": {},
   "outputs": [],
   "source": [
    "# gross margin = gross profit / total revenue\n",
    "# net margin = ebit / total revenue\n",
    "\n",
    "# interest coverage: ebit / interest expense (or finance cost)"
   ]
  },
  {
   "cell_type": "markdown",
   "metadata": {},
   "source": [
    "# TODO:\n",
    "\n",
    "\n",
    "\n",
    "Need to calculate:\n",
    "- multiples\n",
    "    - needs a price\n",
    "- percentage change\n",
    "\n",
    "- (after confirm all our multiples) want to get average of peers, weighted. \n",
    "\n",
    "- peer weighted first part growth.\n",
    "\n",
    "Challenges:\n",
    "- different dates of report (june 30th or dec 31st) (challenge for calculating percentage growth)\n",
    "\n",
    "- nans occuring in different places (challenge for calculating percentage growth)\n",
    "\n",
    "- engineering problem: \n",
    "    - getting stock data takes quite a long time... (first part)\n",
    "    \n",
    "\n",
    "Presentation:\n",
    "- present it in a pdf report"
   ]
  },
  {
   "cell_type": "markdown",
   "metadata": {},
   "source": []
  },
  {
   "cell_type": "markdown",
   "metadata": {},
   "source": []
  }
 ],
 "metadata": {
  "kernelspec": {
   "display_name": "base",
   "language": "python",
   "name": "python3"
  },
  "language_info": {
   "codemirror_mode": {
    "name": "ipython",
    "version": 3
   },
   "file_extension": ".py",
   "mimetype": "text/x-python",
   "name": "python",
   "nbconvert_exporter": "python",
   "pygments_lexer": "ipython3",
   "version": "3.11.7"
  }
 },
 "nbformat": 4,
 "nbformat_minor": 2
}
